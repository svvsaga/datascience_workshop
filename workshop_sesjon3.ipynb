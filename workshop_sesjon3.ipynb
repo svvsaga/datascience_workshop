{
  "nbformat": 4,
  "nbformat_minor": 0,
  "metadata": {
    "colab": {
      "name": "workshop_sesjon3.ipynb",
      "provenance": [],
      "collapsed_sections": [],
      "toc_visible": true,
      "include_colab_link": true
    },
    "kernelspec": {
      "name": "python381jvsc74a57bd005ff9572c53ec8d456f5ac329cde41d9385e61f88e49a46e633ad7d19eb39a11",
      "display_name": "Python 3.8.1 32-bit"
    },
    "language_info": {
      "name": "python",
      "version": "3.8.1"
    }
  },
  "cells": [
    {
      "cell_type": "markdown",
      "metadata": {
        "id": "view-in-github",
        "colab_type": "text"
      },
      "source": [
        "<a href=\"https://colab.research.google.com/github/svvsaga/datascience_workshop/blob/martin/workshop_sesjon3.ipynb\" target=\"_parent\"><img src=\"https://colab.research.google.com/assets/colab-badge.svg\" alt=\"Open In Colab\"/></a>"
      ]
    },
    {
      "cell_type": "markdown",
      "metadata": {
        "id": "4V_wG-rKq9oR"
      },
      "source": [
        "# Workshop sesjon 3: Analyse med BigQuery\n"
      ]
    },
    {
      "cell_type": "markdown",
      "metadata": {
        "id": "s_TTbLBrrtFw"
      },
      "source": [
        "# Kort om BigQuery\n",
        "\n",
        "Google BigQuery er en såkalt Online Analytics Processing serverless datavarehus løsning som støtter analyse av store datamengder (petabytes) uten å kreve at brukeren sette opp infrastruktur (servere) i bakgrunnen.\n",
        "\n",
        "## Hva er OLAP?\n",
        "OLAP er et akronym Online Analytical Processing. Med OLAP kan kan utføre multidimensjonelle analyser av forretningsdata, og OLAP datavarehus tilbyr kapabiliteter for komplekse beregninger, trendanalyser og sofistikert datamodellering. Det var noen i dataviterforum-kanalen som nevnte å prøve ut ClickHouse. ClickHouse er et OLAP datavarehus - og BigQuery er det samme. \n",
        "\n",
        "## Hvordan representeres data i et datavarehus?\n",
        "I et datavarehus bor data i tabeller i et tabulært format med et såkalt skjema definert. Et skjema betyr at man har en predefinert type for hver kolonne av datene. Se for deg at dataene dine er representert på tabulært format, som i Excel\n",
        "\n",
        "### Tabell Ordre\n",
        "| KundeId | Ordrelinje | Pris   |\n",
        "|---------|------------|--------|\n",
        "|   1020  | 1          | 499    |\n",
        "|   1020  | 2          | 299    |\n",
        "|   1020  | 3          | 199    |\n",
        "|   1020  | 4          | 499    |\n",
        "\n",
        "\n",
        "For å hente ut summen av alle linjer i tabellen over, vil man i et datavarehus på samme måte som i Excel kunne bruke `SUM()` funksjonen for å gjøre det. I datavarehuset gjør man det med et spørrespråk som heter SQL.  BigQuery bruker [standard SQL](https://www.w3schools.com/sql/sql_intro.asp) som spørrespråk. Syntaks for spørrespråket i BigQuery kan man finne [her](https://cloud.google.com/bigquery/docs/reference/standard-sql/query-syntax).\n",
        "\n",
        "## Hvorfor BigQuery?\n",
        "Tidligere avarter av datavarehus - som Oracle ble typisk brukt av BI-analysemiljøer, men i den siste tiden har slike løsninger blitt mer og mer populære blant flere analytikermiljøer fordi datavarehusene har fått enda mer funksjonalitet innebygd, blant annet mulighet for å gjøre [GIS-analyser](https://cloud.google.com/bigquery/docs/reference/standard-sql/geography_functions) og [maskinlæring](https://cloud.google.com/bigquery-ml/docs/introduction) som lineærregresjon, nevrale nett, K-means clustering. En full oversikt over funksjoner i BigQuery finner man \n",
        "\n",
        "BigQuery er altså i bunn og grunn en database, bare at man slipper å forholde seg til hardware og infrastruktur i det hele tatt. og har innebygd massive mengder [funksjoner for forskjellige formål](https://cloud.google.com/bigquery/docs/reference/standard-sql/functions-and-operators).\n",
        "\n",
        "\n",
        "\n",
        "## Denne sesjonen\n",
        "I denne sesjonen skal vi gå gjennom noen av de fordelene man oppnå ved bruk av BigQuery og vise noen triks for å komme i gang med det.\n",
        "\n",
        "Koden vi går gjennom kan både kjøres direkte i denne notebooken og  i [BigQuery UI gjennom nettleseren](https://console.cloud.google.com/bigquery). **Vi anbefaler å utforske/teste spørringer i BigQuery UI** der man få noen fordeler  som f.eks. en live query validator samt estimert bruk av datavolumen og kan utforske datastrukturen mer interaktivt.\n",
        "\n",
        "Vi rekker ikke å komme innom alle konsepter, men forhåpentligvis trigger vi interessen tilstrekkelig til at dere kan utforske dette videre på egen hånd. BigQuery har mye dokumentasjon tilgjengelig og eksempler\n",
        "* [Tutorials](https://cloud.google.com/bigquery/docs/tutorials)\n",
        "* [Generell dokumentasjon]()\n",
        "* [Beste praksiser](https://cloud.google.com/bigquery/docs/best-practices-performance-overview)\n",
        "\n",
        "BigQuery har også en god del tilgjengelige data som man kan koble med egne datakilder for analyser.\n",
        "* [BigQuery Public Datasets](https://console.cloud.google.com/marketplace/browse?filter=solution-type:dataset)\n",
        "* [BigQuery Commercial Datasets](https://cloud.google.com/commercial-datasets)\n",
        "\n",
        "Eksempelvis ligger alle data fra [OpenStreetMap der](https://console.cloud.google.com/marketplace/product/openstreetmap/geo-openstreetmap?project=project-5553349987741481369&folder=&organizationId=) og oppdateres kontinuerlig, så man kan eksempelvis fra det datasettet finne antallet eller geografien til alle bruer eller tuneller i Norge på en forholdsvis enkel måte."
      ]
    },
    {
      "cell_type": "markdown",
      "metadata": {
        "id": "1xNLbpYQ_2Ap"
      },
      "source": [
        "## Først: Autentisering med colab notebook\n",
        "For å kunne komme videre med eksemplene i notebooken, er det nødvendig å autentisere seg. Kjør cellen under."
      ]
    },
    {
      "cell_type": "code",
      "metadata": {
        "id": "iuTnLfPo_4yA"
      },
      "source": [
        "from google.colab import auth\n",
        "auth.authenticate_user()"
      ],
      "execution_count": 2,
      "outputs": []
    },
    {
      "cell_type": "code",
      "metadata": {
        "id": "_uRwfwglcTRE"
      },
      "source": [
        "project = \"<prosjekt-navn i GCP>\" # Endre denne"
      ],
      "execution_count": null,
      "outputs": []
    },
    {
      "cell_type": "code",
      "metadata": {
        "id": "SDHvjH7w5_xs"
      },
      "source": [
        "project = \"saga-workshop-dtest-9hsr\""
      ],
      "execution_count": 3,
      "outputs": []
    },
    {
      "cell_type": "markdown",
      "metadata": {
        "id": "GpOuT5Z04Roi"
      },
      "source": [
        "## Grunnlegende spørringer\n",
        "BigQuery bruker standard SQL som språk. Cellen under viser en enkelt spørring som bare returnerer alle rader fra vår trafikkdata tabell. \n",
        "Ved bruk av en notebook er det viktig å huske begrensning på minne (~12GB i colab), slik at den veldig stor tabell kan sannsynligvis ikke lastes.\n",
        "Her kan man benytte seg av en `LIMIT` clause som returnere bare X antall rader. "
      ]
    },
    {
      "cell_type": "code",
      "metadata": {
        "id": "OqJ-hpnbza0R"
      },
      "source": [
        "%%bigquery --project $project\n",
        "SELECT\n",
        " trpId,\n",
        " total\n",
        "FROM\n",
        "  `saga-workshop-data-vu8x.workshop.timestrafikkdata`\n",
        "LIMIT 1000"
      ],
      "execution_count": null,
      "outputs": []
    },
    {
      "cell_type": "markdown",
      "metadata": {
        "id": "Q9pEO-XL0boA"
      },
      "source": [
        "Kopier select statement inn til BigQuery UI og se på datamenge Query Validatoren angir. \n",
        "- Hvor mye data innegår i spørringen? \n",
        "- Er datamengden som prosesseres bakgrunnen avhengig avhengig av `LIMIT` clause?"
      ]
    },
    {
      "cell_type": "markdown",
      "metadata": {
        "id": "Q0SotBUz5A9y"
      },
      "source": [
        "\n",
        "BigQuery prises etter datamengenden som lagres eller analyseres. En spørring som analyserer mye data vil derfor koste mer.\n",
        "Det finnes ulike måter å begrense datamengenden i en spørring. BigQuery behandler dataene kolonne-basert, dvs. jo flere kolonner man ta med i en spørring, desto mer kostnader oppstår."
      ]
    },
    {
      "cell_type": "markdown",
      "metadata": {
        "id": "QM8WgAml1Uwm"
      },
      "source": [
        "Gå inn i BigQuery GUIet, kopier inn spørringene under og sammenlign hvor mye data de prosesserer hver. Prøv å begrense spørring nr. 2 ved a velge enkelte kolonner (f.eks. `trpId`).\n",
        "\n",
        "```\n",
        "SELECT\n",
        "  *\n",
        "FROM\n",
        "  `saga-workshop-data-vu8x.workshop.timestrafikkdata` \n",
        "```\n",
        "\n",
        "```\n",
        "SELECT\n",
        "  --<kolonne-navn>--\n",
        "FROM\n",
        "  `saga-workshop-data-vu8x.workshop.timestrafikkdata` \n",
        "```\n",
        "\n",
        "- Hvor mye data innegår i spørringen? \n",
        "- Er datamengden avhengig av hvilke kolonne man spør mot?"
      ]
    },
    {
      "cell_type": "markdown",
      "metadata": {
        "id": "OA6I7FByNNVG"
      },
      "source": [
        "I tillegg til standard data typer som f.eks FLOAT, INT og STRING har BigQuery også RECORDS (structs) og REPEATED kolonner (arrays). \n",
        "\n",
        "- RECORDS er sammensatt av én eller flere kolonner (et slags tabell inn i tabellen).  Det er mulig å ha en nesting av structs med flere nivåer. \n",
        "RECORDS typisk oppstå ved ingest av en nested JSON fil.\n",
        "Kolonner i en RECORD kan refereres til med en `.` notasjon, f.eks. `total.volumeNumbers` \n",
        "- REPEATED kolonner inneholder arrays av en bestemt data type, f.eks. en array av FLOAT verdier. REPEATED kolloner kan brukes til å præ-aggregere data (én rad versus mange rader for å samle data).\n",
        "\n",
        "Utforsk schema til trafikkdata tabellen. I BigQuery UI velg tabellen og trykk på `schema`. Hvilke \n"
      ]
    },
    {
      "cell_type": "markdown",
      "metadata": {
        "id": "u1mKBR5A4EJp"
      },
      "source": [
        "### Aggregasjoner"
      ]
    },
    {
      "cell_type": "markdown",
      "metadata": {
        "id": "yG47lzT5HaMg"
      },
      "source": [
        "Prøv å lage eg SUM() aggregasjon over total trafikkvolumen.\n",
        "\n",
        "Hint: `volume` kolonne inneholder trafikkvolumet per måling og finnes under en nested RECORD:\n",
        "  - total \n",
        "    - volumeNumbers \n",
        "      - volume"
      ]
    },
    {
      "cell_type": "code",
      "metadata": {
        "id": "FPrgt7kIHWER"
      },
      "source": [
        "%%bigquery --project $project \n",
        "SELECT\n",
        "  --<kolonne-navn>--\n",
        "FROM\n",
        "  `saga-workshop-data-vu8x.workshop.timestrafikkdata`"
      ],
      "execution_count": null,
      "outputs": []
    },
    {
      "cell_type": "markdown",
      "metadata": {
        "id": "CKaEwEDMjeFA"
      },
      "source": [
        "Bruk SUM() aggregasjon sammen med en `group by` for å summere trafikkvolumen per trafikkregistreringspunkt `trpId` og sorter etter totalvolumen (fallende)\n"
      ]
    },
    {
      "cell_type": "code",
      "metadata": {
        "id": "B9itVV44ivrr"
      },
      "source": [
        "%%bigquery --project $project \n",
        "SELECT\n",
        "  --<kolonne-navn1>--,\n",
        "  --<kolonne-navn2>--\n",
        "FROM\n",
        "  `saga-workshop-data-vu8x.workshop.timestrafikkdata`\n",
        "GROUP BY\n",
        " --<kolonne-navn>--\n",
        "ORDER BY\n",
        " --<kolonne-navn>--\n",
        "DESC"
      ],
      "execution_count": null,
      "outputs": []
    },
    {
      "cell_type": "markdown",
      "metadata": {
        "id": "m2Jk5R-Hj-eD"
      },
      "source": [
        "\n",
        "#### Finne duplikater"
      ]
    },
    {
      "cell_type": "markdown",
      "metadata": {
        "id": "qJaW355-8AfZ"
      },
      "source": [
        "Datasettene i BigQuery er vanligvis denormalisert og det er vanlig å finne noen duplikater enten pga duplikasjon i underliggende datakilder eller som et resultat av avvik i ingestpipelinen. En enkel måte å finne disse duplikatene er ved å beregne total antall rader per en key som skal være unik, her f.eks. en kombinasjon av en tellepunkt ID og tidspunkt av måling. I spørringen under brukes det `HAVING` til filtrering av resultatene etter spørringen er kjørt."
      ]
    },
    {
      "cell_type": "code",
      "metadata": {
        "id": "WGAhIKje8-xS"
      },
      "source": [
        "%%bigquery --project $project \n",
        "SELECT\n",
        "  trpId, `from`, `to`, COUNT(*) antall_rader\n",
        "FROM\n",
        "  `saga-workshop-data-vu8x.workshop.timestrafikkdata` \n",
        "GROUP BY \n",
        "  1,2,3\n",
        "HAVING antall_rader > 1\n",
        "ORDER BY \n",
        "  antall_rader \n",
        "DESC"
      ],
      "execution_count": null,
      "outputs": []
    },
    {
      "cell_type": "markdown",
      "metadata": {
        "id": "UDK5eytW9Gw4"
      },
      "source": [
        "Hvor mange rader har minst 1 duplikat?"
      ]
    },
    {
      "cell_type": "markdown",
      "metadata": {
        "id": "G9Fk4O1yANBs"
      },
      "source": [
        "Fjern duplikatene! \n",
        "\n",
        "Det finnes ulike muligheter å gjøre dette direkte i BigQuery. \n",
        "Hvis enkelte rader er **100%** lik er det mulig f.eks. å kjøre en enkelt `SELECT DISTINCT` spørring:"
      ]
    },
    {
      "cell_type": "code",
      "metadata": {
        "id": "i7eLDA4MA4W5"
      },
      "source": [
        "%%bigquery --project $project \n",
        "WITH dummy AS (\n",
        "  SELECT \n",
        "  \"a\" as id, 1 as value\n",
        "  UNION ALL\n",
        "  SELECT\n",
        "  \"a\" as id, 1 as value -- duplicate\n",
        "  UNION ALL\n",
        "  SELECT\n",
        "  \"b\" as id, 2 as value\n",
        ")\n",
        "SELECT DISTINCT * FROM dummy"
      ],
      "execution_count": null,
      "outputs": []
    },
    {
      "cell_type": "markdown",
      "metadata": {
        "id": "Cni7t3dlAzgd"
      },
      "source": [
        "## Analytiske funksjoner\n",
        "\n",
        "I vårt tilfelle inneholder trafikkdata desverre rader der trafikkvolum har blitt oppdatert og vi har flere versjoner av den samme målingen der vi vil bare ta vare på den siste versjonen i vår arbeidstabell.\n",
        "\n",
        "I slike situasjoner er det mulig å bruke en [Analytisk funksjon](https://cloud.google.com/bigquery/docs/reference/standard-sql/analytic-function-concepts). Analytiske funksjoner kan brukes til å utføre aggregasjoner per gruppe lignende som group by, men resultatet returnerer **én rad per hver input rad**. \n",
        "\n",
        "Her kan vi bruke analytisk funksjon `ROW_NUMBER()` til å nummerere radene gruppert etter registereringspunkt (trpId), start (from)- og slutttidspunk  (to)og sortert fallende (`DESC`) etter data importeringstidspunkt. Til slutt bruker spørringen en `WHERE` clause for å velge den første raden per gruppe."
      ]
    },
    {
      "cell_type": "code",
      "metadata": {
        "id": "1Cns1FfD7we1"
      },
      "source": [
        "%%bigquery --project $project \n",
        "SELECT\n",
        "  trpId,\n",
        "  `from`,\n",
        "  `to`,\n",
        "  ROW_NUMBER() OVER(PARTITION BY trpId ORDER BY ingest_time DESC) AS rn\n",
        "FROM\n",
        "  `saga-workshop-data-vu8x.workshop.timestrafikkdata`\n",
        "WHERE \n",
        "  RN = 1"
      ],
      "execution_count": null,
      "outputs": []
    },
    {
      "cell_type": "markdown",
      "metadata": {
        "id": "U382ZFjw8Zwm"
      },
      "source": [
        "Spørsmål:\n",
        "- Hva skjer når man fjerner WHERE clause?\n",
        "- Hvordan ville man fått ut dataene til den *første* importeringstidspunkt (per hver gruppe)?"
      ]
    },
    {
      "cell_type": "markdown",
      "metadata": {
        "id": "R3frx-mH6BxN"
      },
      "source": [
        "### Joins\n",
        "BigQuery støtter alle vanlige typer joins over tabeller som left/right join, inner join, full outer join, cross join. En join benyttes når man ønsker å koble flere tabeller sammen. Dokumentasjon med eksempler finnes [her](https://cloud.google.com/bigquery/docs/reference/standard-sql/query-syntax#join_types)\n",
        "\n",
        "Lag en left outer join, som knytter sammen et utvalg av kolonner i trafikkdata med lokasjonsinformasjon om trafikkregistreringspunkter. Bruk `trpId` fra trafikkdata tabellen og `id` fra registreringspuntktabellen i JOIN statement."
      ]
    },
    {
      "cell_type": "code",
      "metadata": {
        "id": "AGu2lk_u6WC3",
        "outputId": "1f472b40-92c5-47ba-9348-a4cec4c5a036",
        "colab": {
          "base_uri": "https://localhost:8080/",
          "height": 419
        }
      },
      "source": [
        "%%bigquery --project $project \n",
        "SELECT\n",
        "  a.trpId,\n",
        "  a.from,\n",
        "  a.to,\n",
        "  a.total.volumeNumbers.volume,\n",
        "  b.location.coordinates.latLon\n",
        "FROM\n",
        "  `saga-workshop-data-vu8x.workshop.timestrafikkdata` a\n",
        "LEFT JOIN\n",
        "  `saga-workshop-data-vu8x.workshop.trafikkregistreringspunkter` b\n",
        "ON\n",
        "  -- join statement --\n",
        "  a.trpId = b.id\n",
        "LIMIT 1000"
      ],
      "execution_count": 4,
      "outputs": [
        {
          "output_type": "execute_result",
          "data": {
            "text/html": [
              "<div>\n",
              "<style scoped>\n",
              "    .dataframe tbody tr th:only-of-type {\n",
              "        vertical-align: middle;\n",
              "    }\n",
              "\n",
              "    .dataframe tbody tr th {\n",
              "        vertical-align: top;\n",
              "    }\n",
              "\n",
              "    .dataframe thead th {\n",
              "        text-align: right;\n",
              "    }\n",
              "</style>\n",
              "<table border=\"1\" class=\"dataframe\">\n",
              "  <thead>\n",
              "    <tr style=\"text-align: right;\">\n",
              "      <th></th>\n",
              "      <th>trpId</th>\n",
              "      <th>from</th>\n",
              "      <th>to</th>\n",
              "      <th>volume</th>\n",
              "      <th>latLon</th>\n",
              "    </tr>\n",
              "  </thead>\n",
              "  <tbody>\n",
              "    <tr>\n",
              "      <th>0</th>\n",
              "      <td>33902V320184</td>\n",
              "      <td>2019-08-16T20:00+02:00[Europe/Oslo]</td>\n",
              "      <td>2019-08-16T21:00+02:00[Europe/Oslo]</td>\n",
              "      <td>292</td>\n",
              "      <td>{'lon': 5.733602, 'lat': 58.935201}</td>\n",
              "    </tr>\n",
              "    <tr>\n",
              "      <th>1</th>\n",
              "      <td>33902V320184</td>\n",
              "      <td>2019-01-26T16:00+01:00[Europe/Oslo]</td>\n",
              "      <td>2019-01-26T17:00+01:00[Europe/Oslo]</td>\n",
              "      <td>569</td>\n",
              "      <td>{'lon': 5.733602, 'lat': 58.935201}</td>\n",
              "    </tr>\n",
              "    <tr>\n",
              "      <th>2</th>\n",
              "      <td>33902V320184</td>\n",
              "      <td>2019-03-23T18:00+01:00[Europe/Oslo]</td>\n",
              "      <td>2019-03-23T19:00+01:00[Europe/Oslo]</td>\n",
              "      <td>507</td>\n",
              "      <td>{'lon': 5.733602, 'lat': 58.935201}</td>\n",
              "    </tr>\n",
              "    <tr>\n",
              "      <th>3</th>\n",
              "      <td>33902V320184</td>\n",
              "      <td>2019-01-26T15:00+01:00[Europe/Oslo]</td>\n",
              "      <td>2019-01-26T16:00+01:00[Europe/Oslo]</td>\n",
              "      <td>693</td>\n",
              "      <td>{'lon': 5.733602, 'lat': 58.935201}</td>\n",
              "    </tr>\n",
              "    <tr>\n",
              "      <th>4</th>\n",
              "      <td>81921V2407139</td>\n",
              "      <td>2016-03-09T15:00+01:00[Europe/Oslo]</td>\n",
              "      <td>2016-03-09T16:00+01:00[Europe/Oslo]</td>\n",
              "      <td>261</td>\n",
              "      <td>{'lon': 7.78701, 'lat': 62.975648}</td>\n",
              "    </tr>\n",
              "    <tr>\n",
              "      <th>...</th>\n",
              "      <td>...</td>\n",
              "      <td>...</td>\n",
              "      <td>...</td>\n",
              "      <td>...</td>\n",
              "      <td>...</td>\n",
              "    </tr>\n",
              "    <tr>\n",
              "      <th>995</th>\n",
              "      <td>47254V121508</td>\n",
              "      <td>2021-03-29T08:00+02:00[Europe/Oslo]</td>\n",
              "      <td>2021-03-29T09:00+02:00[Europe/Oslo]</td>\n",
              "      <td>497</td>\n",
              "      <td>{'lon': 7.994621, 'lat': 58.148466}</td>\n",
              "    </tr>\n",
              "    <tr>\n",
              "      <th>996</th>\n",
              "      <td>47254V121508</td>\n",
              "      <td>2021-03-29T09:00+02:00[Europe/Oslo]</td>\n",
              "      <td>2021-03-29T10:00+02:00[Europe/Oslo]</td>\n",
              "      <td>512</td>\n",
              "      <td>{'lon': 7.994621, 'lat': 58.148466}</td>\n",
              "    </tr>\n",
              "    <tr>\n",
              "      <th>997</th>\n",
              "      <td>04925V444232</td>\n",
              "      <td>2021-03-29T06:00+02:00[Europe/Oslo]</td>\n",
              "      <td>2021-03-29T07:00+02:00[Europe/Oslo]</td>\n",
              "      <td>2013</td>\n",
              "      <td>{'lon': 10.633088, 'lat': 59.911891}</td>\n",
              "    </tr>\n",
              "    <tr>\n",
              "      <th>998</th>\n",
              "      <td>04925V444232</td>\n",
              "      <td>2021-03-29T06:00+02:00[Europe/Oslo]</td>\n",
              "      <td>2021-03-29T07:00+02:00[Europe/Oslo]</td>\n",
              "      <td>2013</td>\n",
              "      <td>{'lon': 10.633088, 'lat': 59.911891}</td>\n",
              "    </tr>\n",
              "    <tr>\n",
              "      <th>999</th>\n",
              "      <td>04925V444232</td>\n",
              "      <td>2021-03-29T06:00+02:00[Europe/Oslo]</td>\n",
              "      <td>2021-03-29T07:00+02:00[Europe/Oslo]</td>\n",
              "      <td>2013</td>\n",
              "      <td>{'lon': 10.633088, 'lat': 59.911891}</td>\n",
              "    </tr>\n",
              "  </tbody>\n",
              "</table>\n",
              "<p>1000 rows × 5 columns</p>\n",
              "</div>"
            ],
            "text/plain": [
              "             trpId  ...                                latLon\n",
              "0     33902V320184  ...   {'lon': 5.733602, 'lat': 58.935201}\n",
              "1     33902V320184  ...   {'lon': 5.733602, 'lat': 58.935201}\n",
              "2     33902V320184  ...   {'lon': 5.733602, 'lat': 58.935201}\n",
              "3     33902V320184  ...   {'lon': 5.733602, 'lat': 58.935201}\n",
              "4    81921V2407139  ...    {'lon': 7.78701, 'lat': 62.975648}\n",
              "..             ...  ...                                   ...\n",
              "995   47254V121508  ...   {'lon': 7.994621, 'lat': 58.148466}\n",
              "996   47254V121508  ...   {'lon': 7.994621, 'lat': 58.148466}\n",
              "997   04925V444232  ...  {'lon': 10.633088, 'lat': 59.911891}\n",
              "998   04925V444232  ...  {'lon': 10.633088, 'lat': 59.911891}\n",
              "999   04925V444232  ...  {'lon': 10.633088, 'lat': 59.911891}\n",
              "\n",
              "[1000 rows x 5 columns]"
            ]
          },
          "metadata": {
            "tags": []
          },
          "execution_count": 4
        }
      ]
    },
    {
      "cell_type": "markdown",
      "metadata": {
        "id": "w4QXijYFqhSX"
      },
      "source": [
        "### Views\n",
        "Views er en enkel måte å lagre en spørringen der resultatene oppdateres med endringer i underliggende datakilder. \n",
        "\n",
        "Bruk JOIN-spørringen fra før som view definisjon under og lagre viewen i ditt  workshop prosjekt. Bruk følgende skjelettet:\n"
      ]
    },
    {
      "cell_type": "code",
      "metadata": {
        "id": "tS2BH9KZqcct"
      },
      "source": [
        "%%bigquery --project $project \n",
        "CREATE VIEW workshop.trafikkdata_view AS (\n",
        "-- view definition -- \n",
        ")"
      ],
      "execution_count": null,
      "outputs": []
    },
    {
      "cell_type": "markdown",
      "metadata": {
        "id": "V9UGRQFi7hEF"
      },
      "source": [
        "Kjør en spørring mot viewet:"
      ]
    },
    {
      "cell_type": "code",
      "metadata": {
        "id": "DzrMZ1y_7ipp"
      },
      "source": [
        "%%bigquery --project $project \n",
        "SELECT \n",
        " * \n",
        "FROM workshop.trafikkdata_view\n",
        "LIMIT 100"
      ],
      "execution_count": null,
      "outputs": []
    },
    {
      "cell_type": "markdown",
      "metadata": {
        "id": "OpLVojCX_MLF"
      },
      "source": [
        "## Partisjonerte tabeller\n",
        "BigQuery's forbruk av data (analysert datamengde) avhenger i stor grad av antall/størrelse av kolonner en spørring bruker. \n",
        "\n",
        "En `WHERE` clause hjelper generelt ikke med begrensningen av datamengden siden den tar effekt etter dataene er hentet.\n",
        "Ett untak er spørring mot [partisjonerte tabeller](https://cloud.google.com/bigquery/docs/partitioned-tables), der en `WHERE` clause effektivt begrenser datamengden ved å velge partisjoner.\n",
        "\n",
        "Vanligvis bruker vi tidspartisjonerte tabeller.\n",
        "Tidspartisjonerte tabeller krever minst en kolonne som inneholder TIMESTAMP, DATETIME eller DATE verdier. I trafikkdata tabellen har vi flere slike kolonner\n",
        "som angi både en tidspunkt av målingen (`from`, `to`) og en tidspunkt der dataene blir hentet inn i vårt system (`ingest_time`).\n",
        "\n"
      ]
    },
    {
      "cell_type": "markdown",
      "metadata": {
        "id": "GKbEVeGtg94G"
      },
      "source": [
        "I cellen under oppretter vi en tidspartisjonert tabell.\n",
        "- Først konverterer vi `from` kolonnen fra STRING til TIMESTAMP data type\n",
        "- Så bruker vi en CREATE TABLE statement til å lage en ny tabell med tidspartisjonering på konverterte `from` kolonnen"
      ]
    },
    {
      "cell_type": "code",
      "metadata": {
        "id": "cuWoSRqH_-lj"
      },
      "source": [
        "%%bigquery --project $project \n",
        "/* \n",
        "Example how to parse timestamps from string\n",
        "*/\n",
        "WITH original AS (\n",
        "  SELECT\n",
        "    \"2016-06-22T19:00+02:00[Europe/Oslo]\" AS date_string,\n",
        ")\n",
        "SELECT\n",
        "  date_string, \n",
        "  REGEXP_EXTRACT(date_string, r'\\[([^\\[\\]]*)\\]') timezone, \n",
        "  DATETIME(PARSE_TIMESTAMP(\"%Y-%m-%dT%H:%M%Ez %Z \", REGEXP_REPLACE(date_string, r'[\\[\\]]', ' '))) AS datetime_utc,\n",
        "  DATETIME(PARSE_TIMESTAMP(\"%Y-%m-%dT%H:%M%Ez %Z \", REGEXP_REPLACE(date_string, r'[\\[\\]]', ' ')), REGEXP_EXTRACT(date_string, r'\\[([^\\[\\]]*)\\]') ) AS datetime_oslo\n",
        "from original"
      ],
      "execution_count": null,
      "outputs": []
    },
    {
      "cell_type": "markdown",
      "metadata": {
        "id": "zlRTa2tEw0Ne"
      },
      "source": [
        "Lag en tabell som er partisjonert på en DATETIME/DATE kolonne. "
      ]
    },
    {
      "cell_type": "code",
      "metadata": {
        "id": "1qdKaVtxLvHV"
      },
      "source": [
        "%%bigquery --project $project \n",
        "CREATE TABLE workshop.trafikkdata_sub_partitioned PARTITION BY DATE(datetime) \n",
        "AS (\n",
        "SELECT\n",
        "  a.trpId,\n",
        "  -- <datetime transformation> datetime \n",
        "  a.from,\n",
        "  a.to,\n",
        "  a.total.volumeNumbers.volume,\n",
        "  b.location.coordinates.latLon\n",
        "FROM\n",
        "  `saga-workshop-data-vu8x.workshop.timestrafikkdata` a\n",
        "LEFT JOIN\n",
        "  `saga-workshop-data-vu8x.workshop.trafikkregistreringspunkter` b\n",
        "ON\n",
        "  a.trpId = b.Id\n",
        ")"
      ],
      "execution_count": null,
      "outputs": []
    },
    {
      "cell_type": "markdown",
      "metadata": {
        "id": "zf5FdZS8V10E"
      },
      "source": [
        "Sammenligne datamengden ved prosessering av følgende to spørringer i BigQuery GUIet:\n",
        "\n",
        "```\n",
        "SELECT \n",
        " * \n",
        "FROM \n",
        " workshop.trafikkdata_sub_partitioned` \n",
        "WHERE \n",
        " DATE(datetime) = \"2019-11-01\"\n",
        "```\n",
        "\n",
        "\n",
        "```\n",
        "SELECT \n",
        " * \n",
        "FROM \n",
        " `workshop.trafikkdata_sub_partitioned`\n",
        "```"
      ]
    },
    {
      "cell_type": "markdown",
      "metadata": {
        "id": "ZVmPDofgAsn-"
      },
      "source": [
        "**NB:** I tabellen `timestrafikkdata_v2` har vi transformet `from` kolonnen til en kolonne med `TIMESTAMP` elementer og gitt den navnet `startOfHour`."
      ]
    },
    {
      "cell_type": "markdown",
      "metadata": {
        "id": "1z8Pzxy4_awV"
      },
      "source": [
        "## GIS funksjoner\n",
        "Støtte for en del GIS-funksjoner gjør BigQuery også til et kraftig analyseverktøy innen geoprosessering. BigQuery bruker en egen `GEOGRAPHY` data type til å håndtere objekter med geolokasjoner og tilbyr ulike funksjoner som hjelper med å transformere andre data typer til dette.\n",
        "\n",
        "* [Intro til BigQuery GIS](https://cloud.google.com/bigquery/docs/gis-getting-started)\n",
        "* [Oversikt over støttede GIS-funksjoner](https://cloud.google.com/bigquery/docs/gis-getting-started)\n",
        "\n",
        "`GEOGRAPHY` datatypen beskriver et `punktsett` på jordas overflate. Et punktsett er et sett med punkter, linjer og polygoner på WGS84 referansesferoiden med geodetiske kanter. Litt beskrivelser av dette finner man [her](https://mentin.medium.com/long-lines-b65ad9fa8e14) \n",
        "\n",
        "BigQuery GIS støtter ikke følgende features i geospatial formater:\n",
        "\n",
        "* Three-dimensional geometries. This includes the \"Z\" suffix in the WKT format, and the altitude coordinate in the GeoJSON format.\n",
        "* Linear reference systems. This includes the \"M\" suffix in WKT format.\n",
        "* WKT geometry objects other than geometry primitives or multipart geometries. In particular, BigQuery GIS supports only Point, MultiPoint, LineString, MultiLineString, Polygon, MultiPolygon, and GeometryCollection."
      ]
    },
    {
      "cell_type": "markdown",
      "metadata": {
        "id": "tYilH6ehCf3Y"
      },
      "source": [
        "Et geografisk punkt kan lages med ST_GEOGPOINT() funksjon ved bruk av GPS lengdregrad og breddegrad. ST_GEOGPOINT() krever at lengdegrad og breddegrad er i FLOAT64 data type. Det er mulig å bruke `CAST(<string_kolonne> AS FLOAT64) <ny_kolonnenavn>`"
      ]
    },
    {
      "cell_type": "code",
      "metadata": {
        "id": "FvG2eBD-qWVu"
      },
      "source": [
        "%%bigquery --project $project\n",
        "SELECT \n",
        "  id,\n",
        "  ST_GEOGPOINT(--<velg lengdegrad kolonne> , <velg breddegrad kolonne>--) geo\n",
        "FROM \n",
        "  `saga-workshop-data-vu8x.workshop.trafikkregistreringspunkter`"
      ],
      "execution_count": null,
      "outputs": []
    },
    {
      "cell_type": "markdown",
      "metadata": {
        "id": "yRPlU-WIoRkm"
      },
      "source": [
        "Visualiser resultatet av spørringene i BigQuery GeoViz: https://bigquerygeoviz.appspot.com/ \n",
        "- I GeoViz, autoriser sesjon med GCP brukeren\n",
        "- Lim in spørringen fra forigge celle\n",
        "- Klikk \"kjør\"\n",
        "- Under \"Data\" velg kolonnen som inneholder GEOGRAPHY data type \n",
        "- Ev. endre på \"Style\" (f.eks. set en verdi for \"Circle radius\") "
      ]
    },
    {
      "cell_type": "markdown",
      "metadata": {
        "id": "LRLA0oA22HBA"
      },
      "source": [
        "Velg et registreringspunkt og finn alle registreringspunkter som er i nærheten (avstand < 10km)"
      ]
    },
    {
      "cell_type": "code",
      "metadata": {
        "id": "xttncrV82GYE"
      },
      "source": [
        "%%bigquery --project $project\n",
        "WITH\n",
        "  point AS (\n",
        "  SELECT\n",
        "    ST_GEOGPOINT(location.coordinates.latLon.lon,\n",
        "      location.coordinates.latLon.lat) geo\n",
        "  FROM\n",
        "    `saga-workshop-data-vu8x.workshop.trafikkregistreringspunkter`\n",
        "  LIMIT\n",
        "    1\n",
        "),\n",
        "all_points AS (\n",
        "  SELECT\n",
        "    *,\n",
        "    ST_GEOGPOINT(location.coordinates.latLon.lon,\n",
        "      location.coordinates.latLon.lat) geo\n",
        "  FROM\n",
        "    `saga-workshop-data-vu8x.workshop.trafikkregistreringspunkter`\n",
        ")\n",
        "\n",
        "SELECT\n",
        "  all_points.geo,\n",
        "  ST_DISTANCE(point.geo,\n",
        "    all_points.geo) distance_in_meters\n",
        "FROM\n",
        "  point,\n",
        "  all_points\n",
        "WHERE\n",
        "  ST_DWITHIN(point.geo,\n",
        "    all_points.geo,\n",
        "    10000)"
      ],
      "execution_count": null,
      "outputs": []
    },
    {
      "cell_type": "markdown",
      "metadata": {
        "id": "dBOd09k85Au-"
      },
      "source": [
        "Bruk en join, aggregasjon og GIS funksjonalitet sammen til å visualisere total trafikkvolum per tellepunkt i 2019 i et GeoViz kart.\n",
        "Modifiser følgende spørring (husk at i tabellen timestrafikkdata_v2 er `from` kolonnen transformert til en kolonne med navnet `startOfHour` som inneholder `TIMESTAMP` elementer):"
      ]
    },
    {
      "cell_type": "code",
      "metadata": {
        "id": "rlUMig575AKy"
      },
      "source": [
        "%%bigquery --project $project\n",
        "SELECT\n",
        "  b.Id,\n",
        "  SUM(--<velg trafikkvolumen kolonne>--) totalVolume,\n",
        "  ANY_VALUE(ST_GEOGPOINT(--<velg lengdegrad kolonne> , <velg breddegrad kolonne>--)) geo\n",
        "FROM\n",
        "  `saga-workshop-data-vu8x.workshop.timestrafikkdata_v2` a\n",
        "LEFT JOIN\n",
        "  `saga-workshop-data-vu8x.workshop.trafikkregistreringspunkter` b\n",
        "ON  \n",
        "  a.trpId = b.Id\n",
        "WHERE \n",
        "  -- <DATETIME filter for 2019> -- \n",
        "GROUP BY 1"
      ],
      "execution_count": null,
      "outputs": []
    },
    {
      "cell_type": "markdown",
      "metadata": {
        "id": "SX6sPACo6Gwy"
      },
      "source": [
        "- Skaler \"Circle radius\" etter total trafikk (`totalVolume`)"
      ]
    },
    {
      "cell_type": "markdown",
      "metadata": {
        "id": "VRknLnBJMqKY"
      },
      "source": [
        "BigQuery lar oss også se på romlige forhold mellom geomerties. Under vises en spørring som viser hvordan\n",
        "- `ST_WITHIN` kan brukes for å se om en geometry inneholder en annen \n",
        "- `ST_INTERSECTS` kan brukes for å se om en geometry krysser en annen\n",
        "\n",
        "Illustrasjonen under viser hvordan de ulike geometriene ligger i forhold til hverandre.\n",
        "\n",
        "<img src=\"https://drive.google.com/uc?id=1zTHJgFFWyDG_xbjjdmf-OEoKxu9-vmS5\" width=\"500\" height=\"500\">"
      ]
    },
    {
      "cell_type": "code",
      "metadata": {
        "id": "5VKUWhQ0Mqd_"
      },
      "source": [
        "%%bigquery --project $project\n",
        "WITH polygon as (\n",
        "    SELECT ST_GEOGFROMTEXT(\"POLYGON((0 0, 0 1, 1 1, 1 0, 0 0))\") poly\n",
        "),\n",
        "geos as (\n",
        "    SELECT ST_GEOGFROMTEXT(\"POINT(1.25 1.25)\") dot, ST_GEOGFROMTEXT(\"LINESTRING(-0.5 -0.5, 0.5 0.5)\") line\n",
        "    UNION ALL \n",
        "    SELECT ST_GEOGFROMTEXT(\"POINT(0.75 0.75)\") dot, ST_GEOGFROMTEXT(\"LINESTRING(-0.5 -0.5, -0.5 1.5)\") line\n",
        ")\n",
        "\n",
        "SELECT *, ST_WITHIN(dot, poly) st_within, ST_INTERSECTS(line, poly) st_intersects\n",
        "FROM polygon, geos"
      ],
      "execution_count": null,
      "outputs": []
    },
    {
      "cell_type": "markdown",
      "metadata": {
        "id": "93kEHEGlqWee"
      },
      "source": [
        "Aggreger trafikkvolum per kommune eller fylke ved bruk av geografisk intersects. Her benytter vi oss av geografisk definisjon av kommuner (POLYGON type) vi har lastet opp i forrige sesjon. \n",
        "\n",
        "\n",
        "Kjør en spørring for å hente ut alle registreringspunkter som overlapper med et gitt området.  Bruk f.eks. ST_WITHIN() funksjon. "
      ]
    },
    {
      "cell_type": "code",
      "metadata": {
        "id": "KYQ1sl4D3CP7"
      },
      "source": [
        "%%bigquery --project $project\n",
        "SELECT\n",
        "  b.kommunenavn,\n",
        "  COUNT(DISTINCT a.id) registreringspunkter,\n",
        "  AVG(c.total.volumeNumbers.volume) avg_volume,\n",
        "  ANY_VALUE(b.geometry) kommune_geografi\n",
        "FROM\n",
        "  `saga-workshop-data-vu8x.workshop.trafikkregistreringspunkter` a\n",
        "JOIN\n",
        "  `saga-workshop-data-vu8x.workshop.kommuner` b\n",
        "ON\n",
        "  ST_WITHIN( ST_GEOGPOINT(location.coordinates.latLon.lon,\n",
        "      location.coordinates.latLon.lat),\n",
        "    b.geometry)\n",
        "LEFT JOIN\n",
        "  `saga-workshop-data-vu8x.workshop.timestrafikkdata` c\n",
        "ON\n",
        "  a.id = c.trpId\n",
        "GROUP BY\n",
        "  1"
      ],
      "execution_count": null,
      "outputs": []
    },
    {
      "cell_type": "markdown",
      "metadata": {
        "id": "ImR4gMKR-njx"
      },
      "source": [
        "NB: Rekkefølgen av JOINS er viktig mtp. performance! En JOIN basert på en geografisk sammenligning, som ST_WITHIN(), krever ofte mer prosesseringstid og burde derfor begrenses."
      ]
    },
    {
      "cell_type": "markdown",
      "metadata": {
        "id": "_oncsVAd6yN9"
      },
      "source": [
        "Visualiser totalttrafikk per området ved bruk av BigQuery GeoViz: https://bigquerygeoviz.appspot.com/  "
      ]
    },
    {
      "cell_type": "markdown",
      "metadata": {
        "id": "SG-BJ02A_eNf"
      },
      "source": [
        "## Brukerfunksjoner (UDFs) - Kjør denne som demo\n",
        "Av og til mangles det en enkel funksjon som er ikke definert i standard SQL eller i BigQuery's ekstra funksjoner. Det er enkelt å definere og bruke egne funksjoner (UDFs) enten temporær i en skript eller lagre dem globalt i et prosjekt.  UDFs tilbyr også en interface til javascript kode/biblioteker, som gjør det mulig å integrere ekstra funksjonalitet."
      ]
    },
    {
      "cell_type": "code",
      "metadata": {
        "id": "oghOAU29A0Nt"
      },
      "source": [
        "%%bigquery --project $project\n",
        "/*\n",
        "Todo: Definer ST_Buffer funksjon her\n",
        "*/"
      ],
      "execution_count": null,
      "outputs": []
    },
    {
      "cell_type": "markdown",
      "metadata": {
        "id": "6zW4oyqxqwoc"
      },
      "source": [
        "Bruk ST_Buffer funksjon og visualiser trafikkregistreringspunktene (GeoViz).\n"
      ]
    }
  ]
}