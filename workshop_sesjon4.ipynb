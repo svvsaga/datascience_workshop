{
  "nbformat": 4,
  "nbformat_minor": 0,
  "metadata": {
    "colab": {
      "name": "workshop_sesjon4.ipynb",
      "provenance": [],
      "collapsed_sections": [],
      "toc_visible": true,
      "include_colab_link": true
    },
    "kernelspec": {
      "name": "python3",
      "display_name": "Python 3"
    },
    "language_info": {
      "name": "python"
    }
  },
  "cells": [
    {
      "cell_type": "markdown",
      "metadata": {
        "id": "view-in-github",
        "colab_type": "text"
      },
      "source": [
        "<a href=\"https://colab.research.google.com/github/svvsaga/datascience_workshop/blob/main/workshop_sesjon4.ipynb\" target=\"_parent\"><img src=\"https://colab.research.google.com/assets/colab-badge.svg\" alt=\"Open In Colab\"/></a>"
      ]
    },
    {
      "cell_type": "markdown",
      "metadata": {
        "id": "o7YdByNigVuu"
      },
      "source": [
        "# Workshop sesjon 4: Utforsking og visualisering\n",
        "\n"
      ]
    },
    {
      "cell_type": "markdown",
      "metadata": {
        "id": "aafijQqoVST0"
      },
      "source": [
        "Hittil har vi sett på hvordan vi laster inn og tranformerer data i Google-plattformen og hvordan vi kan bruke BigQuery til å hente ut de dataene vi er interessert i og gjøre enkle analyser og aggregeringer. Nå skal vi se på et lett tilgjengelig verktøy for å utforske dataene videre og visualisere funnene våre - nemlig Data Studio.\n",
        "\n"
      ]
    },
    {
      "cell_type": "markdown",
      "metadata": {
        "id": "ypI_-L21XaPx"
      },
      "source": [
        "## Utforsking i Data Studio"
      ]
    },
    {
      "cell_type": "markdown",
      "metadata": {
        "id": "VqKInbDz66T4"
      },
      "source": [
        "Vi tar utgangspunkt i den tidspartisjonerte tabellen vi opprettet i forrige økt. Denne gir oss en rad for hver kombinasjon av målepunktsidentifikator (```trpId```) og tidspunkt (```startOfHour``` og ```lokaltid```) med informasjon om antall kjøretøy som er målt (```volume```) og hvilken kommune målepunktet ligger i (```kommunenavn```).\n",
        "\n",
        "Om du ikke har opprettet tabellen i slutten av sesjon 3, kan du kopiere og kjøre spørringen under. Husk å angi ditt eget prosjekt etter ```CREATE TABLE```!\n",
        "\n",
        "I tillegg finnes en samsvarende tabell i vårt felles workshop-prosjekt (`saga-workshop-data-vu8x.workshop.produksjonstabell`) som du kan bruke i stedet."
      ]
    },
    {
      "cell_type": "markdown",
      "metadata": {
        "id": "EiIJX716xqD7"
      },
      "source": [
        "```\n",
        "CREATE TABLE `<workshop-project>.workshop.produksjonstabell` PARTITION BY DATE(startOfHour)\n",
        "AS (\n",
        "SELECT\n",
        "  a.trpId,\n",
        "  a.startOfHour,\n",
        "  DATETIME(a.startOfHour,\"Europe/Oslo\") lokaltid,\n",
        "  a.total.volumeNumbers.volume,\n",
        "  c.kommunenavn,\n",
        "  c.geometry\n",
        "FROM\n",
        "  `saga-workshop-data-vu8x.workshop.timestrafikkdata_v2` a\n",
        "LEFT JOIN\n",
        "  `saga-workshop-data-vu8x.workshop.trafikkregistreringspunkter` b\n",
        "ON\n",
        "  a.trpId = b.Id\n",
        "JOIN\n",
        "  `saga-workshop-data-vu8x.workshop.kommuner` c\n",
        "ON\n",
        "  ST_WITHIN( ST_GEOGPOINT(b.location.coordinates.latLon.lon, b.location.coordinates.latLon.lat), c.geometry)\n",
        ")\n",
        "```"
      ]
    },
    {
      "cell_type": "markdown",
      "metadata": {
        "id": "oWIUw4V89jcG"
      },
      "source": [
        "Vi skal nå utforske disse dataene og se om vi kan finne noen påfallende mønstre, utliggere eller andre ting vi kan undersøke nærmere. Til det bruker vi verktøyet Data Studio, som er tett integrert med BigQuerys grafiske grensesnitt:\n",
        "\n",
        "\n",
        "1.   Velg den tidspartisjonerte tabellen i Explorer-menyen til venstre i BigQuery-grensesnittet\n",
        "2.   Klikk \"Export\" oppe til høyre\n",
        "3.   Velg \"Explore with Data Studio\" i nedtrekksmenyen\n",
        "\n",
        "Du skal nå få opp en ny fane i nettleseren med et nytt Data Studio-dokument. Foreløpig inneholder det bare en tabellvisning, men vi kan velge en rekke ulike diagrammer øverst i menyen til høyre. Her mistenker vi å kunne finne noe interessant ved å se på variasjon over tid, så vi velger *diagram over tidsrekker*.\n",
        "\n",
        "Under diagramvelgeren har vi to faner med innstillinger – *Data* for å velge hvilke data vi vil vise og *Stil* for å formatere farger, akser og den slags. I *Data*-fanen er dette det viktigste vi må forholde oss til:\n",
        "\n",
        "\n",
        "*   **Dimensjon**. Her angir vi hvilket felt vi vil knytte til x-aksen og med hvilken oppløsning. ```startOfHour```-feltet er allerede valgt for oss, så dette behøver vi ikke å endre på.\n",
        "*   **Fordelingsdimensjon**. Her kan vi angi et felt som inneholder ulike kategorier dersom vi ønsker å vise hver kategori som en egen serie i diagrammet. Her har Data Studio valgt å vise hvert målepunkt som en egen serie, men det ønsker vi jo ikke. Vi fjerner derfor hele inndelingen i kategorier ved å sveve over feltnavnet og trykke på x-en som dukker opp. \n",
        "*   **Beregning**. Her knytter vi felter til y-aksen(e). Nå viser DataStudio bare ```Record Count```, altså antall rader tabellen har for hver dato. Vi klikker på feltnavnet og velger heller ```volume```. DataStudio skal nå velge å vise summen av ```volume```-feltene for hver dato, men vi kunne like gjerne valgt å vise gjennomsnitt, median, max eller noe annet ved å klikke på \"SUM\"-ikonet ved siden av feltnavnet.\n",
        "\n",
        "<br>\n",
        "\n",
        "Nå har vi en tidsserie som viser utviklingen i antall målte kjøretøy per døgn. Den skal se omtrent slik ut:\n",
        "\n",
        "<img src='https://drive.google.com/uc?id=16dVMzeCBwM_b5oVCCwzBOBRvYW_BiEAH' width=\"900\">\n",
        "\n",
        "**Diskusjon**: Er det noen påfallende utviklingstrekk, mønstre eller andre ting vi kan legge merke til her?\n",
        "\n",
        "\n"
      ]
    },
    {
      "cell_type": "markdown",
      "metadata": {
        "id": "-tBkBF4fG2Z6"
      },
      "source": [
        "### Diskusjonspunkter (spoiler alert!)"
      ]
    },
    {
      "cell_type": "markdown",
      "metadata": {
        "id": "MGfNhdIuHWw5"
      },
      "source": [
        "Det er en åpenbar **voksende trend** her - vi går jevnt og trutt fra null trafikk i 2014 til 20 millioner passeringer i 2019.\n",
        "  * Hypotese: Det blir ikke mer trafikk, men flere *målinger*.\n",
        "  * Vi undersøker dette ved å legge til en ny serie for antall målepunkter: Klikk og dra inn ```trpId```som nytt felt under *Beregning*. Gå så til *Stil*-fanen og legg serie 2 til høyre akse.\n",
        "  * Hypotesen ser ut til å stemme - vi måler mer trafikk i takt med at det installeres flere tellepunkter.\n",
        "\n",
        "Det er påfallende **regelmessighet i variasjonen** både på kort og mellomlang sikt.\n",
        "  * Vi undersøker dette nærmere ved å se på kortere tidsperiode i større detalj.\n",
        "  * Under *Standard dataperiode*, velg *Egendefinert*. Bruk så kalendergrensesnittet til å velge perioden fra 1. januar 2018 til 31. desember 2019.\n",
        "  * Vi kan tydelig se effekten av ukedager, sommerferie, jul og påske.\n",
        "\n",
        "<br>\n",
        "\n",
        "**Konklusjon**: Det kan være interessant å undersøke disse systematiske variasjonene nærmere, men vi bør sammenligne de *samme* målepunktene over tid.\n"
      ]
    },
    {
      "cell_type": "markdown",
      "metadata": {
        "id": "TUg4brqbHIMG"
      },
      "source": [
        "## Henting av et konsistent datasett"
      ]
    },
    {
      "cell_type": "markdown",
      "metadata": {
        "id": "hGfJ3YavvWcR"
      },
      "source": [
        "Vi ønsker å sammenligne data fra de *samme* målestasjonene over tid. Vi henter derfor en liste over alle målestasjonene og bruker ```GROUP BY```for å få én rad per målepunkt. Vi begrenser analysen til data fra 2018 til 2019 og angir dette med ```WHERE```.\n",
        "\n",
        "Så bruker vi ```COUNT``` til å telle antall dager der vi har minst én måling fra et bestemt målepunkt. Dette kombinerer vi med ```HAVING```for å kun velge de målepunktene som har levert målinger i 730 dager, altså hver eneste dag i løpet av toårsperioden."
      ]
    },
    {
      "cell_type": "markdown",
      "metadata": {
        "id": "YU8-a_Y3zlRf"
      },
      "source": [
        "```\n",
        "SELECT\n",
        "    trpId\n",
        "FROM\n",
        "    `saga-workshop-data-vu8x.workshop.produksjonstabell`\n",
        "WHERE\n",
        "    lokaltid BETWEEN \"2018-01-01\" AND \"2019-12-31\" AND volume > 0\n",
        "GROUP BY trpId\n",
        "HAVING COUNT(DISTINCT DATE(lokaltid)) >= 730\n",
        "```"
      ]
    },
    {
      "cell_type": "markdown",
      "metadata": {
        "id": "fUdgs3ICwUpE"
      },
      "source": [
        "Denne spørringen returnerer en liste over alle målestasjoner som leverte minst én måling hver dag i den perioden vi ser på. Vi vil nå ha med alle feltene i datasetet, men bare for disse målepunktene:"
      ]
    },
    {
      "cell_type": "markdown",
      "metadata": {
        "id": "AR8dKdMYzu9k"
      },
      "source": [
        "```\n",
        "SELECT\n",
        "    *\n",
        "FROM `saga-workshop-data-vu8x.workshop.produksjonstabell`\n",
        "WHERE lokaltid BETWEEN \"2018-01-01\" AND \"2019-12-31\" AND trpId IN (\n",
        "SELECT\n",
        "    trpId\n",
        "FROM\n",
        "    `saga-workshop-data-vu8x.workshop.produksjonstabell`\n",
        "WHERE\n",
        "    lokaltid BETWEEN \"2018-01-01\" AND \"2019-12-31\" AND volume > 0\n",
        "GROUP BY trpId\n",
        "HAVING COUNT(DISTINCT DATE(lokaltid)) >= 730\n",
        ")\n",
        "```"
      ]
    },
    {
      "cell_type": "markdown",
      "metadata": {
        "id": "sr_J8eVaRz7y"
      },
      "source": [
        "Vi kjører denne spørringen og utforsker resultatet i Data Studio - denne gangen ved å klike \"Explore Data\" fra rett over resultatet fra spørringen."
      ]
    },
    {
      "cell_type": "markdown",
      "metadata": {
        "id": "jz7TbFCScXTt"
      },
      "source": [
        "## Analyse av tidsvariasjon"
      ]
    },
    {
      "cell_type": "markdown",
      "metadata": {
        "id": "kgCIK1j8cmSl"
      },
      "source": [
        "Som sist har Data Studio valgt ```startOfHour``` som dimensjon. Denne angir tidspunkter i UTC, men vi skal gjøre analyser der tidssone og sommertid har en betydning, så vi endrer dette til ```lokaltid``` først som sist.\n",
        "\n",
        "Under *Dimensjon* kan vi ikke bare velge hvilket felt vi vil bruke, men også tidsoppløsningen for aggregering. For å illustrere dette gjør vi følgende endringer i diagrammet vårt:\n",
        "* Klikk på kalenderikonet ved siden av feltnavnet.\n",
        "* Velg *Ukedag* fra menyen som dukker opp\n",
        "* Gå til *Stil*-fanen, velg søylevisning for *Serie 1* og tving y-aksen til å begynne på 0\n",
        "\n",
        "Vi har nå et diagram over totalt antall målte kjøretøy per ukedag gjennom de to årene vi ser på. Det skal se omtrent slik ut:\n",
        "\n",
        "<img src='https://drive.google.com/uc?id=12cWJqdgurrsL17BVamXfWb_rBmyd6snG' width=\"800\">"
      ]
    },
    {
      "cell_type": "markdown",
      "metadata": {
        "id": "QQ0TaxfOTjsU"
      },
      "source": [
        "Enheten på y-aksen er nå i absolutte tall – men totalt antall målte kjøretøy for et vilkårlig sett med målepunkter er ikke særlig interessant å fortolke. Vi vil i stedet se hvilken *andel* av ukas totale trafikk som faller på hver ukedag. Det løser vi slik:\n",
        "* Finn *Beregninger*-seksjonen i *Data*-fanen og klikk på SUM-ikonet ved siden av feltnavnet.\n",
        "* Under *Sammenligningsberegning*, velg *Prosent av det totale antallet* og *I forhold til tilsvarende data*\n",
        "\n",
        "Vi ser nå ukedagsvariasjonen for alle målepunkter i Norge under ett. For å kunne utforske forskjeller mellom kommunene ved å legge til et filter:\n",
        "*   Finn ```kommunenavn``` i oversikten over tilgjengelige felt til høyre på skjermen\n",
        "*   Dra feltet til *Filter*-boksen øverst på skjermen.\n",
        "* Klikk på filteret, finn den kommunen du er interessert i og trykk på *Bare* og *Bruk*\n",
        "\n",
        "Om vi ser på kun Oslo, skal vi nå ha noe slikt som dette:\n",
        "\n",
        "<img src='https://drive.google.com/uc?id=1e5PvCG-Ib8WKbwq-ORx_sodALoF94Dl9' width=\"800\">\n",
        "\n",
        "<br>\n",
        "\n",
        "Med disse instillingene på plass er det fort gjort å analysere andre typer tidsvariasjon. Ved å justere oppløsningen under *Dimensjon* kan vi for eksempel se på variasjon mellom måneder, ukenummer eller klokkeslett."
      ]
    },
    {
      "cell_type": "markdown",
      "metadata": {
        "id": "RN_W93XBM6lM"
      },
      "source": [
        "## Egendefinerte felter"
      ]
    },
    {
      "cell_type": "markdown",
      "metadata": {
        "id": "32O0Uo2HNMBr"
      },
      "source": [
        "Å bruke filter til å vise mer enn én kommune fungerer fint hvis vi vil se hvordan totalen for kommunene fordeler seg mellom ukedagene. Men om vi ønsker å vise kommunenes ukesfordelinger opp mot *hverandre*, må vi tenke litt annerledes. Her kan vi utnytte at Data Studio lar oss definere våre egne felter og lage et eget felt for hver kommune vi er interessert i:\n",
        "\n",
        "* Slett filteret vi nettopp opprettet og velg bytt tilbake fra søyle- til linjevisning\n",
        "* Under *Beregning*, trykk på ```volume``` og deretter *Opprett et felt*\n",
        "* Gi feltet navnet Oslo\n",
        "* Angi følgende formel: IF(kommunenavn=\"Oslo\",volume,0)\n",
        "* Under *Sammenligningsberegning*, velg *Prosent av det totale antallet*\n",
        "* Klikk *Bruk* og legg til felter for Bergen, Trondheim, Kviteseid og Voss på samme måte\n",
        "\n",
        "<br>\n",
        "\n",
        "Nå skal nå ha en graf som gjør det lett å se likheter og forskjeller mellom ulike kommuner:\n",
        "\n",
        "<img src='https://drive.google.com/uc?id=1Z3KNHZdZB5EQbaJKhqvWySt6WR2cenFA' width=\"800\">"
      ]
    },
    {
      "cell_type": "markdown",
      "metadata": {
        "id": "AChsYmqxMWrT"
      },
      "source": [
        "## BONUSDEL: Beregning av ukedagsfaktorer i BigQuery"
      ]
    },
    {
      "cell_type": "markdown",
      "metadata": {
        "id": "PzlCrsiIMgoq"
      },
      "source": [
        "Om vi ikke ønsker å lage egne felter for hver kommune vi ser på, kan vi løse dette på en annen måte. Det forutsetter at vi på forhånd vet a) hvilken tidsperiode vi ønsker å se på, og b) hvilken tidsoppløsning vi skal studere, altså om vi ønsker å aggregere per ukedag, kalendermåned, time på døgnet eller noe annet.\n",
        "\n",
        "Det første vi gjør er å lagre et view basert på spørringen vi brukte til å trekke ut et konsistent datasett. Vi lagrer denne ved å trykke *Save* (ved siden av *Run*-knappen) og deretter *Save View*. Vi angir vårt personlige prosjekt og kaller viewet ```produksjonstabell_konsistent_2018-19```.\n",
        "\n",
        "Nå har vi enkel tilgang til det konsistente datauttrekket og kan bruke dette til å beregne ukedagsandeler for hver kommune og ukedag. Vi lager først en spørring som aggregerer en rad for hver kombinasjon av kommunenavn og ukedag og summerer totalt trafikkvolum for denne kombinasjonen. Så spør vi på nytt etter totalt trafikkvolum for hvert kommunenavn *uavhengig* av ukedag. Til slutt kan vi joine disse spørringene og beregne forholdstallet mellom trafikkvolum per ukedag og trafikkvolum totalt. Vi får da et tall mellom 0 og 1 som angir hvor stor andel av ukas totale trafikk som faller på en gitt ukedag for en bestemt kommune."
      ]
    },
    {
      "cell_type": "markdown",
      "metadata": {
        "id": "t_xJ5ms-NIjE"
      },
      "source": [
        "```\n",
        "WITH ukedagsaggregater AS (\n",
        "SELECT\n",
        "    kommunenavn,\n",
        "    EXTRACT(DAYOFWEEK FROM lokaltid) as ukedag,\n",
        "    SUM(volume) as ukedagstotal,\n",
        "FROM `saga-workshop-data-vu8x.workshop.produksjonstabell_konsistent_2018-19` a\n",
        "GROUP BY kommunenavn, ukedag\n",
        "),\n",
        "totalaggregater AS (\n",
        "SELECT\n",
        "    kommunenavn,\n",
        "    SUM(volume) AS periodetotal\n",
        "FROM `saga-workshop-data-vu8x.workshop.produksjonstabell_konsistent_2018-19` b\n",
        "GROUP BY kommunenavn\n",
        ")\n",
        "\n",
        "SELECT\n",
        "    kommunenavn,\n",
        "    ukedag,\n",
        "    ukedagstotal/periodetotal AS ukedagsandel\n",
        "FROM ukedagsaggregater\n",
        "LEFT JOIN totalaggregater\n",
        "USING (kommunenavn)\n",
        "```"
      ]
    },
    {
      "cell_type": "markdown",
      "metadata": {
        "id": "J23u03cqQPnF"
      },
      "source": [
        "Nå kan nå kjøre denne spørringne og åpne resultatet i Data Studio. Eksempelvis kan vi gjøre følgende for å vise en rangert oversikt over kommunene etter hvor stor andel av trafikken som foregår i helgene:\n",
        "\n",
        "\n",
        "1.   Velg *Søylediagram* i diagramvelgeren\n",
        "2.   Velg ```kommunenavn```som dimensjon\n",
        "3. Velg ```ukedagsandel```under beregning\n",
        "4. Legg til et filter for ```ukedag```-feltet - velg for eksempel å kun vise ukedag 1 (søndag)\n",
        "5. Gå til Stil-fanen og velg antall kolonner (nesten øverst) - for eksempel 20\n",
        "\n",
        "Vi har nå en oversikt over de kommunene i Norge (der vi har målinger) som har størst andel av ukestrafikken på søndager. Det bør se omtrent slik ut:\n",
        "\n",
        "<img src='https://drive.google.com/uc?id=1uDZPVhruSWnq8ngFS4-Vzos_7mGFe-xc' width=\"800\">\n",
        "\n"
      ]
    },
    {
      "cell_type": "markdown",
      "metadata": {
        "id": "CZCmOjKJc6ZU"
      },
      "source": [
        "## Oppgave"
      ]
    },
    {
      "cell_type": "markdown",
      "metadata": {
        "id": "4SA6KTCRdDWv"
      },
      "source": [
        "\n",
        "1. Hent data for et konsistent utvalg av målepunkter\n",
        "2.   Vis med en figur hvordan trafikken fordeler seg gjennom et typisk år for Norge totalt sett (for eksempel per måned eller ukenummer)\n",
        "3.   Bruk et filter tiln å finne enkeltkommuner som skiller seg fra det nasjonale mønsteret\n",
        "4. Sammenlign fordeling gjennom året for flere kommuner i én og samme figur (hint: egendefinerte felter)\n",
        "5. Endre tidsoppløsningen og sammenlign de samme kommunene med tanke på døgn- og ukedags- eller andre variasjoner\n",
        "\n"
      ]
    },
    {
      "cell_type": "markdown",
      "metadata": {
        "id": "CDvWpilDc6pT"
      },
      "source": [
        "## Løsningsforslag"
      ]
    },
    {
      "cell_type": "markdown",
      "metadata": {
        "id": "3oXSvjGYfig6"
      },
      "source": [
        "\n",
        "\n",
        "1.   Se *Henting av konsistent datasett* over for én måte å gjøre det på.\n",
        "2.   Her kan man velge et tidsseriediagram, velge ```volume``` under Beregning og sette tidsoppløsningen under Dimensjon til for eksempel Kvartal, Måned eller ISO-uke\n",
        "3. Bruk ```kommunenavn```som filter. Her er det lurt å angi Sammenligningsberegning (Prosent av det totale antallet) under Beregning.\n",
        "4. Se *Egendefinerte felter* over\n",
        "5. Her trenger man kun å endre tidsoppløsningen i Dimensjon-feltet\n",
        "\n",
        "Litt avhengig av hvordan man velger å løse det, kan resultatet for eksempel se slik ut:\n",
        "\n",
        "<img src='https://drive.google.com/uc?id=1lBrUE4ViU0keM5Iw58VhDauoiYcuGx4R' width=\"800\">\n",
        "\n"
      ]
    }
  ]
}