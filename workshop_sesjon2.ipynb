{
  "nbformat": 4,
  "nbformat_minor": 0,
  "metadata": {
    "colab": {
      "name": "GS workshop_sesjon2.ipynb",
      "provenance": [],
      "collapsed_sections": [],
      "toc_visible": true,
      "authorship_tag": "ABX9TyOBuSVGgF4/GBtHJ1lksgcu",
      "include_colab_link": true
    },
    "kernelspec": {
      "name": "python3",
      "display_name": "Python 3"
    },
    "language_info": {
      "name": "python"
    }
  },
  "cells": [
    {
      "cell_type": "markdown",
      "metadata": {
        "id": "view-in-github",
        "colab_type": "text"
      },
      "source": [
        "<a href=\"https://colab.research.google.com/github/svvsaga/datascience_workshop/blob/main/workshop_sesjon2.ipynb\" target=\"_parent\"><img src=\"https://colab.research.google.com/assets/colab-badge.svg\" alt=\"Open In Colab\"/></a>"
      ]
    },
    {
      "cell_type": "markdown",
      "metadata": {
        "id": "4V_wG-rKq9oR"
      },
      "source": [
        "# Workshop sesjon 2: Analyse med BigQuery\n"
      ]
    },
    {
      "cell_type": "markdown",
      "metadata": {
        "id": "s_TTbLBrrtFw"
      },
      "source": [
        "Google's BigQuery er en serverless datawarehus løsning som støtter analyse av store datamengder basert på standard SQL plus noen ekstra funksjoner. I denne sesjonen skal vi gå gjennom noen av de fordelene man oppnå ved bruk av BigQuery til analyse av store datamengder versus det man kan få til lokalt/i en notebook eller kanskje en traditionell database.\n",
        "\n",
        "Koden vi går gjennom kan både kjøres i denne noteboken og alternativt i BigQuery UI gjennom nettleseren."
      ]
    },
    {
      "cell_type": "markdown",
      "metadata": {
        "id": "1xNLbpYQ_2Ap"
      },
      "source": [
        "### Autentisering med colab notebook"
      ]
    },
    {
      "cell_type": "code",
      "metadata": {
        "id": "iuTnLfPo_4yA"
      },
      "source": [
        "from google.colab import auth\n",
        "auth.authenticate_user()"
      ],
      "execution_count": 26,
      "outputs": []
    },
    {
      "cell_type": "markdown",
      "metadata": {
        "id": "GpOuT5Z04Roi"
      },
      "source": [
        "### Grunnlegende spørringer\n",
        "BigQuery bruker standard SQL som default språk. Cellen under viser en enkelt spørring som bare returnerer alle rader fra vår trafikkdata tabell."
      ]
    },
    {
      "cell_type": "code",
      "metadata": {
        "id": "OqJ-hpnbza0R"
      },
      "source": [
        "%%bigquery --project <workshop_project> \n",
        "SELECT\n",
        " *\n",
        "FROM\n",
        "  `saga-trafikkdata-stm-39pt.spike_eu.import_prod_mars` "
      ],
      "execution_count": null,
      "outputs": []
    },
    {
      "cell_type": "markdown",
      "metadata": {
        "id": "Q9pEO-XL0boA"
      },
      "source": [
        "Koper select statement inn til BigQuery UI og se på datamenge Query Validatoren angi. Hvor mye data innegår i spørringen?\n"
      ]
    },
    {
      "cell_type": "markdown",
      "metadata": {
        "id": "Q0SotBUz5A9y"
      },
      "source": [
        "\n",
        "BigQuery prises etter datamengenden som lagres eller analyseres. En spørring som analyserer mye data vil derfor koste mer.\n",
        "Det finnes ulike måter å begrense datamengenden i en spørring. BigQuery behandler dataene kolonne-basert, dvs. jo flere kolonner man ta med i en spørring, desto mer kostnader oppstår."
      ]
    },
    {
      "cell_type": "markdown",
      "metadata": {
        "id": "QM8WgAml1Uwm"
      },
      "source": [
        "Prøv å begrense spørringen ved a velge enkelte kolonner:"
      ]
    },
    {
      "cell_type": "code",
      "metadata": {
        "id": "au4_2lB55PFq"
      },
      "source": [
        "%%bigquery --project <workshop_project> \n",
        "SELECT\n",
        "  a.trpId\n",
        "FROM\n",
        "  `saga-trafikkdata-stm-39pt.spike_eu.import_prod_mars` "
      ],
      "execution_count": null,
      "outputs": []
    },
    {
      "cell_type": "markdown",
      "metadata": {
        "id": "WgoUACDC5cE9"
      },
      "source": [
        "Hvor mye data innegår i spørringen?"
      ]
    },
    {
      "cell_type": "markdown",
      "metadata": {
        "id": "M3Ls3eQp7xba"
      },
      "source": [
        "Bruk en enkel aggregasjon for å telle antall rader per  trafikktellepunkt ved bruk av `group by` "
      ]
    },
    {
      "cell_type": "code",
      "metadata": {
        "id": "kzeB_RqN7wOw"
      },
      "source": [
        "%%bigquery --project <workshop_project> \n",
        "SELECT\n",
        "  a.trpId, COUNT(*) antall_rader\n",
        "FROM\n",
        "  `saga-trafikkdata-stm-39pt.spike_eu.import_prod_mars` \n",
        "group by 1"
      ],
      "execution_count": null,
      "outputs": []
    },
    {
      "cell_type": "markdown",
      "metadata": {
        "id": "qJaW355-8AfZ"
      },
      "source": [
        "Datasettene i BigQuery er vanligvis denormalisert og det er vanlig å finne noen duplikator enten pga duplikasjon i underliggende datakilder eller som en resultat av avvik i ingestpipelinen. En enkel måte å finne disse duplikatene er ved å beregne total antall rader per en key som skal være unik, her f.eks. en kombinasjon av en tellepunkt ID og tidspunkt av måling:"
      ]
    },
    {
      "cell_type": "code",
      "metadata": {
        "id": "WGAhIKje8-xS"
      },
      "source": [
        "%%bigquery --project <workshop_project> \n",
        "SELECT\n",
        "  a.trpId, a.ingest_time, COUNT(*) antall_rader\n",
        "FROM\n",
        "  `saga-trafikkdata-stm-39pt.spike_eu.import_prod_mars` \n",
        "group by 1,2\n",
        "having antall_rader > 1"
      ],
      "execution_count": null,
      "outputs": []
    },
    {
      "cell_type": "markdown",
      "metadata": {
        "id": "UDK5eytW9Gw4"
      },
      "source": [
        "Hvor mange rader har minst 1 duplikat?"
      ]
    },
    {
      "cell_type": "markdown",
      "metadata": {
        "id": "G9Fk4O1yANBs"
      },
      "source": [
        "Fjern duplikatene! "
      ]
    },
    {
      "cell_type": "code",
      "metadata": {
        "id": "i7eLDA4MA4W5"
      },
      "source": [
        ""
      ],
      "execution_count": null,
      "outputs": []
    },
    {
      "cell_type": "markdown",
      "metadata": {
        "id": "Cni7t3dlAzgd"
      },
      "source": [
        ""
      ]
    },
    {
      "cell_type": "markdown",
      "metadata": {
        "id": "R3frx-mH6BxN"
      },
      "source": [
        "### Joins\n",
        "BigQuery støtter alle vanlige typer joins som left/right join, inner join, full outer join, cross join.\n",
        "Lag en left outer join, som knytter sammen trafikkdata med registreringspunkter lokasjonsinformasjon om registreringspunkter (GPS breddegrad og lengdegrad)."
      ]
    },
    {
      "cell_type": "code",
      "metadata": {
        "id": "AGu2lk_u6WC3"
      },
      "source": [
        "%%bigquery --project <workshop_project> \n",
        "SELECT\n",
        "  a.trpId,a.total.volumeNumbers.volume,b.location.coordinates.latLon\n",
        "FROM\n",
        "  `saga-trafikkdata-stm-39pt.spike_eu.import_prod_mars` a\n",
        "LEFT JOIN\n",
        "  `saga-trafikkdata-stm-39pt.spike_eu.trafikkregistreringspunkter` b\n",
        "ON\n",
        "  a.trpId = b.id"
      ],
      "execution_count": null,
      "outputs": []
    },
    {
      "cell_type": "markdown",
      "metadata": {
        "id": "esKkz3p95kgx"
      },
      "source": [
        "### Views og materialized views"
      ]
    },
    {
      "cell_type": "markdown",
      "metadata": {
        "id": "w4QXijYFqhSX"
      },
      "source": [
        "Views er en enkel måte å lagre en spørringen der resultatene oppdateres med endringer i underliggende datakilder. Bruk JOIN-spørringen og lagre resultatene som en view.\n"
      ]
    },
    {
      "cell_type": "code",
      "metadata": {
        "id": "tS2BH9KZqcct"
      },
      "source": [
        "%%bigquery --project <workshop_project> \n",
        "CREATE  VIEW <workshop_project>.<dataset>.<view_name> AS (\n",
        "SELECT\n",
        "  a.trpId,a.total.volumeNumbers.volume,b.location.coordinates.latLon\n",
        "FROM\n",
        "  `saga-trafikkdata-stm-39pt.spike_eu.import_prod_mars` a\n",
        "LEFT JOIN\n",
        "  `saga-trafikkdata-stm-39pt.spike_eu.trafikkregistreringspunkter` b\n",
        "ON\n",
        "  a.trpId = b.id\n",
        ")"
      ],
      "execution_count": null,
      "outputs": []
    },
    {
      "cell_type": "markdown",
      "metadata": {
        "id": "V9UGRQFi7hEF"
      },
      "source": [
        "Spør viewen i stedet for underliggende datakilder"
      ]
    },
    {
      "cell_type": "code",
      "metadata": {
        "id": "DzrMZ1y_7ipp"
      },
      "source": [
        "%%bigquery --project <workshop_project> \n",
        "SELECT * FROM <workshop_project>.<dataset>.<view_name>"
      ],
      "execution_count": null,
      "outputs": []
    },
    {
      "cell_type": "markdown",
      "metadata": {
        "id": "jAgAzIG_7tU8"
      },
      "source": [
        "Når man bruker en view som en del av analyser kan det være hensiktsmessig å lage en materialzed view. Materialized views lagrer en resultatene på en spørring som en tabell som automatisk oppdateres når underliggende tabellene oppdateres. Fordelen med en materialized view er at den i stor grad kan benytte seg av BigQuerys cache system slik at etterfølgende spørringen \"koster\" mye mindre data. En krav på materialiazed views er at de må inneholde et eller annet form av aggregasjon:"
      ]
    },
    {
      "cell_type": "code",
      "metadata": {
        "id": "CQJI9a1Y-7qg"
      },
      "source": [
        "%%bigquery --project <workshop_project> \n",
        "CREATE OR REPLACE MATERIALIZED VIEW `<workshop_project>.<dataset>.duplikat_view`\n",
        "SELECT\n",
        "  a.trpId, a.ingest_time, COUNT(*) antall_rader\n",
        "FROM\n",
        "  `saga-trafikkdata-stm-39pt.spike_eu.import_prod_mars` \n",
        "group by 1"
      ],
      "execution_count": null,
      "outputs": []
    },
    {
      "cell_type": "markdown",
      "metadata": {
        "id": "OpLVojCX_MLF"
      },
      "source": [
        "### Tidspartisjonering"
      ]
    },
    {
      "cell_type": "markdown",
      "metadata": {
        "id": "UO9oSDKR_Q3X"
      },
      "source": [
        "### Analytiske funksjoner"
      ]
    },
    {
      "cell_type": "markdown",
      "metadata": {
        "id": "1z8Pzxy4_awV"
      },
      "source": [
        "### GIS funksjoner"
      ]
    },
    {
      "cell_type": "markdown",
      "metadata": {
        "id": "SG-BJ02A_eNf"
      },
      "source": [
        "### User defined functions (UDFs)"
      ]
    }
  ]
}