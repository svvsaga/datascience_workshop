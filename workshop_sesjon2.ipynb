{
  "nbformat": 4,
  "nbformat_minor": 0,
  "metadata": {
    "colab": {
      "name": "GS workshop_sesjon2.ipynb",
      "provenance": [],
      "collapsed_sections": [],
      "toc_visible": true,
      "authorship_tag": "ABX9TyPbAk4Jt4CovzZXqvqwzcXJ",
      "include_colab_link": true
    },
    "kernelspec": {
      "name": "python3",
      "display_name": "Python 3"
    },
    "language_info": {
      "name": "python"
    }
  },
  "cells": [
    {
      "cell_type": "markdown",
      "metadata": {
        "id": "view-in-github",
        "colab_type": "text"
      },
      "source": [
        "<a href=\"https://colab.research.google.com/github/svvsaga/datascience_workshop/blob/main/workshop_sesjon2.ipynb\" target=\"_parent\"><img src=\"https://colab.research.google.com/assets/colab-badge.svg\" alt=\"Open In Colab\"/></a>"
      ]
    },
    {
      "cell_type": "markdown",
      "metadata": {
        "id": "4V_wG-rKq9oR"
      },
      "source": [
        "# Workshop sesjon 2: Analyse med BigQuery\n"
      ]
    },
    {
      "cell_type": "markdown",
      "metadata": {
        "id": "s_TTbLBrrtFw"
      },
      "source": [
        "Google's BigQuery er en serverless datawarehus løsning som støtter analyse av store datamengder uten å kreve at brukeren sette opp infrastruktur i bakgrunnen.\n",
        "BigQuery bruker [standard SQL](https://www.w3schools.com/sql/sql_intro.asp) som språk. I tilleg finnes det noen ekstra funksjoner som gjør det enklere å kjøre komplekse analyser, til og med noen støttede GIS funksjonalitet.\n",
        "\n",
        "I denne sesjonen skal vi gå gjennom noen av de fordelene man oppnå ved bruk av BigQuery og vise noen triks for å komme i gang med det.\n",
        "\n",
        "Koden vi går gjennom kan både kjøres i denne noteboken og  i BigQuery UI gjennom nettleseren. **Vi anbefaler å utforske/teste spørringer i BigQuery UI** der man få noen fordeler  som f.eks. en live query validator samt estimert bruk av datavolumen og kan utforske datastrukturen mer interaktivt.\n"
      ]
    },
    {
      "cell_type": "markdown",
      "metadata": {
        "id": "1xNLbpYQ_2Ap"
      },
      "source": [
        "## Autentisering med colab notebook\n",
        "Hvis notebook brukes til å kjøre spørringer, er det nødvendig å autentisere seg (kjør cellen under)."
      ]
    },
    {
      "cell_type": "code",
      "metadata": {
        "id": "iuTnLfPo_4yA"
      },
      "source": [
        "from google.colab import auth\n",
        "auth.authenticate_user()"
      ],
      "execution_count": null,
      "outputs": []
    },
    {
      "cell_type": "code",
      "metadata": {
        "id": "_uRwfwglcTRE"
      },
      "source": [
        "project = \"saga-analytics-temp\" # set project-name globally"
      ],
      "execution_count": null,
      "outputs": []
    },
    {
      "cell_type": "markdown",
      "metadata": {
        "id": "GpOuT5Z04Roi"
      },
      "source": [
        "## Grunnlegende spørringer\n",
        "BigQuery bruker standard SQL som språk. Cellen under viser en enkelt spørring som bare returnerer alle rader fra vår trafikkdata tabell. \n",
        "Ved bruk av en notebook er det viktig å huske begrensning på minne (~12GB i colab), slik at den veldig stor tabell kan sannsynligvis ikke lastes.\n",
        "Her kan man benytte seg av en `LIMIT` clause som returnere bare X antall rader. "
      ]
    },
    {
      "cell_type": "code",
      "metadata": {
        "id": "OqJ-hpnbza0R"
      },
      "source": [
        "%%bigquery --project $project\n",
        "SELECT\n",
        " trpId,\n",
        " total\n",
        "FROM\n",
        "  `spike_eu.trafikkregistreringspunkter` \n",
        "LIMIT 1000"
      ],
      "execution_count": null,
      "outputs": []
    },
    {
      "cell_type": "markdown",
      "metadata": {
        "id": "Q9pEO-XL0boA"
      },
      "source": [
        "Kopier select statement inn til BigQuery UI og se på datamenge Query Validatoren angi. \n",
        "- Hvor mye data innegår i spørringen? \n",
        "- Er datamengden som prosesseres bakgrunnen avhengig avhengig av `LIMIT` clause?"
      ]
    },
    {
      "cell_type": "markdown",
      "metadata": {
        "id": "Q0SotBUz5A9y"
      },
      "source": [
        "\n",
        "BigQuery prises etter datamengenden som lagres eller analyseres. En spørring som analyserer mye data vil derfor koste mer.\n",
        "Det finnes ulike måter å begrense datamengenden i en spørring. BigQuery behandler dataene kolonne-basert, dvs. jo flere kolonner man ta med i en spørring, desto mer kostnader oppstår."
      ]
    },
    {
      "cell_type": "markdown",
      "metadata": {
        "id": "QM8WgAml1Uwm"
      },
      "source": [
        "Prøv å begrense spørringen ved a velge enkelte kolonner (f.eks. `trpId`)"
      ]
    },
    {
      "cell_type": "code",
      "metadata": {
        "id": "au4_2lB55PFq"
      },
      "source": [
        "%%bigquery --project $project \n",
        "SELECT\n",
        "  --<kolonne-navn>--\n",
        "FROM\n",
        "  `spike_eu.import_prod_mars` "
      ],
      "execution_count": null,
      "outputs": []
    },
    {
      "cell_type": "markdown",
      "metadata": {
        "id": "WgoUACDC5cE9"
      },
      "source": [
        "- Hvor mye data innegår i spørringen? \n",
        "- Er datamengden avhengig av hvilke kolonne man spør mot?"
      ]
    },
    {
      "cell_type": "markdown",
      "metadata": {
        "id": "OA6I7FByNNVG"
      },
      "source": [
        "I tillegg til standard data typer som f.eks FLOAT, INT og STRING har BigQuery også RECORDS (structs) og REPEATED kolonner (arrays). \n",
        "\n",
        "- RECORDS er sammensatt av én eller flere kolonner (et slags tabell inn i tabellen).  Det er mulig å ha en nesting av structs med flere nivåer. \n",
        "RECORDS typisk oppstå ved ingest av en nested JSON fil.\n",
        "Kolonner i en RECORD kan refereres til med en `.` notasjon, f.eks. `total.volumeNumbers` \n",
        "- REPEATED kolonner inneholder arrays av en bestemt data type, f.eks. en array av FLOAT verdier. REPEATED kolloner kan brukes til å præ-aggregere data (én rad versus mange rader for å samle data).\n",
        "\n",
        "Utforsk schema til trafikkdata tabellen. I BigQuery UI velg tabellen og trykk på `schema`. Hvilke \n"
      ]
    },
    {
      "cell_type": "markdown",
      "metadata": {
        "id": "u1mKBR5A4EJp"
      },
      "source": [
        "### Aggregasjoner"
      ]
    },
    {
      "cell_type": "markdown",
      "metadata": {
        "id": "yG47lzT5HaMg"
      },
      "source": [
        "Prøv å lage eg SUM() aggregasjon over total trafikkvolumen.\n",
        "\n",
        "Hint: `volume` kolonne inneholder trafikkvolumen per måling og finnes under en nested RECORD:\n",
        "  - total \n",
        "    - volumeNumbers \n",
        "      - volume"
      ]
    },
    {
      "cell_type": "code",
      "metadata": {
        "id": "FPrgt7kIHWER"
      },
      "source": [
        "%%bigquery --project $project \n",
        "SELECT\n",
        "  --<kolonne-navn>--\n",
        "FROM\n",
        "  `spike_eu.import_prod_mars`"
      ],
      "execution_count": null,
      "outputs": []
    },
    {
      "cell_type": "markdown",
      "metadata": {
        "id": "CKaEwEDMjeFA"
      },
      "source": [
        "Bruk SUM() aggregasjon sammen med en `group by` for å summere trafikkvolumen per trafikkregistreringspunkt `trpId` og sorter etter totalvolumen (fallende)\n"
      ]
    },
    {
      "cell_type": "code",
      "metadata": {
        "id": "B9itVV44ivrr"
      },
      "source": [
        "%%bigquery --project $project \n",
        "SELECT\n",
        "  --<kolonne-navn1>--,\n",
        "  --<kolonne-navn2>--\n",
        "FROM\n",
        "  `spike_eu.import_prod_mars`\n",
        "GROUP BY\n",
        " --<kolonne-navn>--\n",
        "ORDER BY\n",
        " --<kolonne-navn>--\n",
        "DESC"
      ],
      "execution_count": null,
      "outputs": []
    },
    {
      "cell_type": "markdown",
      "metadata": {
        "id": "m2Jk5R-Hj-eD"
      },
      "source": [
        "\n",
        "#### Finne duplikater"
      ]
    },
    {
      "cell_type": "markdown",
      "metadata": {
        "id": "qJaW355-8AfZ"
      },
      "source": [
        "Datasettene i BigQuery er vanligvis denormalisert og det er vanlig å finne noen duplikator enten pga duplikasjon i underliggende datakilder eller som en resultat av avvik i ingestpipelinen. En enkel måte å finne disse duplikatene er ved å beregne total antall rader per en key som skal være unik, her f.eks. en kombinasjon av en tellepunkt ID og tidspunkt av måling. I spørringen under brukes det `HAVING` til filtrering av resultatene etter spørringen er kjørt."
      ]
    },
    {
      "cell_type": "code",
      "metadata": {
        "id": "WGAhIKje8-xS"
      },
      "source": [
        "%%bigquery --project $project \n",
        "SELECT\n",
        "  trpId, `from`, `to`, COUNT(*) antall_rader\n",
        "FROM\n",
        "  `spike_eu.import_prod_mars` \n",
        "GROUP BY \n",
        "  1,2,3\n",
        "HAVING antall_rader > 1\n",
        "ORDER BY \n",
        "  antall_rader \n",
        "DESC"
      ],
      "execution_count": null,
      "outputs": []
    },
    {
      "cell_type": "markdown",
      "metadata": {
        "id": "UDK5eytW9Gw4"
      },
      "source": [
        "Hvor mange rader har minst 1 duplikat?"
      ]
    },
    {
      "cell_type": "markdown",
      "metadata": {
        "id": "G9Fk4O1yANBs"
      },
      "source": [
        "Fjern duplikatene! \n",
        "\n",
        "Det finnes ulike muligheter å gjøre dette direkte i BigQuery. \n",
        "Hvis enkelte rader er **100%** lik er det mulig f.eks. å kjøre en enkelt `SELECT DISTINCT` spørring:"
      ]
    },
    {
      "cell_type": "code",
      "metadata": {
        "id": "i7eLDA4MA4W5",
        "colab": {
          "base_uri": "https://localhost:8080/",
          "height": 111
        },
        "outputId": "daa4201a-3f56-40d8-bfed-12ed8bec9503"
      },
      "source": [
        "%%bigquery --project $project \n",
        "WITH dummy AS (\n",
        "  SELECT \n",
        "  \"a\" as id, 1 as value\n",
        "  UNION ALL\n",
        "  SELECT\n",
        "  \"a\" as id, 1 as value -- duplicate\n",
        "  UNION ALL\n",
        "  SELECT\n",
        "  \"b\" as id, 2 as value\n",
        ")\n",
        "SELECT DISTINCT * FROM dummy"
      ],
      "execution_count": null,
      "outputs": [
        {
          "output_type": "execute_result",
          "data": {
            "text/html": [
              "<div>\n",
              "<style scoped>\n",
              "    .dataframe tbody tr th:only-of-type {\n",
              "        vertical-align: middle;\n",
              "    }\n",
              "\n",
              "    .dataframe tbody tr th {\n",
              "        vertical-align: top;\n",
              "    }\n",
              "\n",
              "    .dataframe thead th {\n",
              "        text-align: right;\n",
              "    }\n",
              "</style>\n",
              "<table border=\"1\" class=\"dataframe\">\n",
              "  <thead>\n",
              "    <tr style=\"text-align: right;\">\n",
              "      <th></th>\n",
              "      <th>id</th>\n",
              "      <th>value</th>\n",
              "    </tr>\n",
              "  </thead>\n",
              "  <tbody>\n",
              "    <tr>\n",
              "      <th>0</th>\n",
              "      <td>a</td>\n",
              "      <td>1</td>\n",
              "    </tr>\n",
              "    <tr>\n",
              "      <th>1</th>\n",
              "      <td>b</td>\n",
              "      <td>2</td>\n",
              "    </tr>\n",
              "  </tbody>\n",
              "</table>\n",
              "</div>"
            ],
            "text/plain": [
              "  id  value\n",
              "0  a      1\n",
              "1  b      2"
            ]
          },
          "metadata": {
            "tags": []
          },
          "execution_count": 15
        }
      ]
    },
    {
      "cell_type": "markdown",
      "metadata": {
        "id": "6gUtxWXI6qx7"
      },
      "source": [
        "### Analytiske funksjoner"
      ]
    },
    {
      "cell_type": "markdown",
      "metadata": {
        "id": "Cni7t3dlAzgd"
      },
      "source": [
        "I vår tilfelle inneholder trafikkdata desverre rader der trafikkvolume har blitt oppdatert og vi har flere versjoner av den samme måling der vi vil bare ta vare på den siste versjonen i vår arbeidstabell.\n",
        "\n",
        "I slike situasjoner er det f.eks. å bruke en [Analytiske funksjon](https://cloud.google.com/bigquery/docs/reference/standard-sql/analytic-function-concepts). Analytiske funksjoner kan brukes til å utføre aggregasjoner per gruppe lignende som group by, men resultatet returnerer **én rad per hver input rad**. \n",
        "\n",
        "Her kan vi bruke analytiske funksjon `ROW_NUMBER()` til å nummerere radene gruppert etter registereringspunkt (trpId), start (from)- og slutttidspunk  (to)og sortert fallende (`DESC`) etter data importeringstidspunkt. Til slutt bruker spørringen en `WHERE` clause for å velge den første raden per gruppe."
      ]
    },
    {
      "cell_type": "code",
      "metadata": {
        "id": "1Cns1FfD7we1"
      },
      "source": [
        "%%bigquery --project $project \n",
        "SELECT\n",
        "  trpId,\n",
        "  `from`,\n",
        "  `to`,\n",
        "  ROW_NUMBER() OVER(PARTITION BY trpId ORDER BY ingest_time DESC) AS rn\n",
        "FROM\n",
        "  `spike_eu.import_prod_mars`\n",
        "WHERE \n",
        "  RN = 1"
      ],
      "execution_count": null,
      "outputs": []
    },
    {
      "cell_type": "markdown",
      "metadata": {
        "id": "U382ZFjw8Zwm"
      },
      "source": [
        "Spørsmål:\n",
        "- Hva skjer når man fjerner WHERE clause?\n",
        "- Hvordan ville man fått ut dataene til den *første* importeringstidspunkt (per hver gruppe)?"
      ]
    },
    {
      "cell_type": "markdown",
      "metadata": {
        "id": "R3frx-mH6BxN"
      },
      "source": [
        "### Joins\n",
        "BigQuery støtter alle vanlige typer joins som left/right join, inner join, full outer join, cross join.\n",
        "\n",
        "Lag en left outer join, som knytter sammen et utvalg av kolonner i trafikkdata med lokasjonsinformasjon om trafikkregistreringspunkter. Bruk `trpId` fra trafikkdata tabellen og `id` fra registreringspuntktabellen i JOIN statement."
      ]
    },
    {
      "cell_type": "code",
      "metadata": {
        "id": "AGu2lk_u6WC3"
      },
      "source": [
        "%%bigquery --project $project \n",
        "SELECT\n",
        "  a.trpId,\n",
        "  a.from,\n",
        "  a.to,\n",
        "  a.total.volumeNumbers.volume,\n",
        "  b.location.coordinates.latLon\n",
        "FROM\n",
        "  `spike_eu.import_prod_mars` a\n",
        "LEFT JOIN\n",
        "  `spike_eu.trafikkregistreringspunkter` b\n",
        "ON\n",
        "  -- join statement -- "
      ],
      "execution_count": null,
      "outputs": []
    },
    {
      "cell_type": "markdown",
      "metadata": {
        "id": "esKkz3p95kgx"
      },
      "source": [
        "### Views"
      ]
    },
    {
      "cell_type": "markdown",
      "metadata": {
        "id": "w4QXijYFqhSX"
      },
      "source": [
        "Views er en enkel måte å lagre en spørringen der resultatene oppdateres med endringer i underliggende datakilder. \n",
        "\n",
        "Bruk JOIN-spørringen fra før som view definisjon under og lagre viewen i ditt  workshop prosjekt. Bruk følgende skjelettet:\n"
      ]
    },
    {
      "cell_type": "code",
      "metadata": {
        "id": "tS2BH9KZqcct"
      },
      "source": [
        "%%bigquery --project $project \n",
        "CREATE VIEW workshop.trafikkdata_view AS (\n",
        "-- view definition -- \n",
        ")"
      ],
      "execution_count": null,
      "outputs": []
    },
    {
      "cell_type": "markdown",
      "metadata": {
        "id": "V9UGRQFi7hEF"
      },
      "source": [
        "Kjør en spørring mot viewen:"
      ]
    },
    {
      "cell_type": "code",
      "metadata": {
        "id": "DzrMZ1y_7ipp"
      },
      "source": [
        "%%bigquery --project $project \n",
        "SELECT \n",
        " * \n",
        "FROM workshop.trafikkdata_view"
      ],
      "execution_count": null,
      "outputs": []
    },
    {
      "cell_type": "markdown",
      "metadata": {
        "id": "OpLVojCX_MLF"
      },
      "source": [
        "## Partisjonerte tabeller\n",
        "BigQuery's forbruk av data (analysert datamengde) avhenger i stor grad av antall/størrelse av kolonner en spørring bruker. \n",
        "\n",
        "En `WHERE` clause hjelper generelt ikke med begrensningen av datamengden siden den tar effekt etter dataene er hentet.\n",
        "Ett untak er spørring mot [partisjonerte tabeller](https://cloud.google.com/bigquery/docs/partitioned-tables), der en `WHERE` clause effektivt begrenser datamengden ved å velge partisjoner.\n",
        "\n",
        "Vanligvis bruker vi tidspartisjonerte tabeller.\n",
        "Tidspartisjonerte tabeller krever minst en kolonne som inneholder TIMESTAMP, DATETIME eller DATE verdier. I trafikkdata tabellen har vi flere slike kolonner\n",
        "som angi både en tidspunkt av målingen (`from`, `to`) og en tidspunkt der dataene blir hentet inn i vårt system (`ingest_time`).\n",
        "\n"
      ]
    },
    {
      "cell_type": "markdown",
      "metadata": {
        "id": "GKbEVeGtg94G"
      },
      "source": [
        "I cellen under oppretter vi en tidspartisjonert tabell.\n",
        "- Først konverterer vi `from` kolonnen fra STRING til TIMESTAMP data type\n",
        "- Så bruker vi en CREATE TABLE statement til å lage en ny tabell med tidspartisjonering på konverterte `from` kolonnen"
      ]
    },
    {
      "cell_type": "code",
      "metadata": {
        "id": "cuWoSRqH_-lj"
      },
      "source": [
        "%%bigquery --project $project \n",
        "/* \n",
        "Example how to parse timestamps from string\n",
        "*/\n",
        "WITH original AS (\n",
        "  SELECT\n",
        "    \"2016-06-22T19:00+02:00[Europe/Oslo]\" AS date_string,\n",
        ")\n",
        "SELECT\n",
        "  date_string, \n",
        "  REGEXP_EXTRACT(date_string, r'\\[([^\\[\\]]*)\\]') timezone, \n",
        "  DATETIME(PARSE_TIMESTAMP(\"%Y-%m-%dT%H:%M%Ez %Z \", REGEXP_REPLACE(date_string, r'[\\[\\]]', ' '))) AS datetime_utc,\n",
        "  DATETIME(PARSE_TIMESTAMP(\"%Y-%m-%dT%H:%M%Ez %Z \", REGEXP_REPLACE(date_string, r'[\\[\\]]', ' ')), REGEXP_EXTRACT(date_string, r'\\[([^\\[\\]]*)\\]') ) AS datetime_oslo\n",
        "from original"
      ],
      "execution_count": null,
      "outputs": []
    },
    {
      "cell_type": "markdown",
      "metadata": {
        "id": "zlRTa2tEw0Ne"
      },
      "source": [
        "Lag en tabell som er partisjonert på en DATETIME/DATE kolonne. "
      ]
    },
    {
      "cell_type": "code",
      "metadata": {
        "id": "1qdKaVtxLvHV"
      },
      "source": [
        "%%bigquery --project $project \n",
        "CREATE TABLE spike_eu.trafikkdata_sub_partitioned PARTITION BY DATE(datetime) \n",
        "AS (\n",
        "SELECT\n",
        "  a.trpId,\n",
        "  -- <datetime transformation> datetime \n",
        "  a.from,\n",
        "  a.to,\n",
        "  a.total.volumeNumbers.volume,\n",
        "  b.location.coordinates.latLon\n",
        "FROM\n",
        "  `spike_eu.import_prod_mars` a\n",
        "LEFT JOIN\n",
        "  `spike_eu.trafikkregistreringspunkter` b\n",
        "ON\n",
        "  a.trpId = b.Id\n",
        ")"
      ],
      "execution_count": null,
      "outputs": []
    },
    {
      "cell_type": "markdown",
      "metadata": {
        "id": "zf5FdZS8V10E"
      },
      "source": [
        "Sammenligne datamengden ved prosessering av følgende to spørringer:"
      ]
    },
    {
      "cell_type": "code",
      "metadata": {
        "id": "MTVU5kelVgS_"
      },
      "source": [
        "%%bigquery --project $project \n",
        "SELECT \n",
        " * \n",
        "FROM \n",
        " spike_eu.trafikkdata_sub_partitioned` \n",
        "WHERE \n",
        " DATE(datetime) = \"2019-11-01\""
      ],
      "execution_count": null,
      "outputs": []
    },
    {
      "cell_type": "code",
      "metadata": {
        "id": "HFRgdIKpViHL"
      },
      "source": [
        "%%bigquery --project $project \n",
        "SELECT \n",
        " * \n",
        "FROM \n",
        " spike_eu.trafikkdata_sub_partitioned` "
      ],
      "execution_count": null,
      "outputs": []
    },
    {
      "cell_type": "markdown",
      "metadata": {
        "id": "1z8Pzxy4_awV"
      },
      "source": [
        "## GIS funksjoner\n",
        "Støtte for noen GIS-funksjoner gjør BigQuery også til en kraftig analyse verktøy innen geoprosessering. BigQuery bruker en egen `GEOGRAPHY` data type til å hantere objekter med geolokasjoner og tilbyr ulike parser som hjelper med å transformere andre data typer til dette.\n",
        "\n",
        "En oversikt over støttede GIS-funksjoner finnes her: \n",
        "\n",
        "https://cloud.google.com/bigquery/docs/reference/standard-sql/geography_functions "
      ]
    },
    {
      "cell_type": "markdown",
      "metadata": {
        "id": "tYilH6ehCf3Y"
      },
      "source": [
        "En geografisk punkt kan lages med ST_GEOGPOINT() funksjon ved bruk av GPS lengdregrad og breddegrad. ST_GEOGPOINT() krever at lengdegrad og breddegrad er i FLOAT64 data type. Det er mulig å bruke `CAST(<string_kolonne> AS FLOAT64) <ny_kolonnenavn>`"
      ]
    },
    {
      "cell_type": "code",
      "metadata": {
        "id": "FvG2eBD-qWVu"
      },
      "source": [
        "%%bigquery --project $project\n",
        "SELECT \n",
        "  id,\n",
        "  ST_GEOGPOINT(--<velg lengdegrad kolonne> , <velg breddegrad kolonne>--) geo\n",
        "FROM \n",
        "  `spike_eu.trafikkregistreringspunkter`"
      ],
      "execution_count": null,
      "outputs": []
    },
    {
      "cell_type": "markdown",
      "metadata": {
        "id": "yRPlU-WIoRkm"
      },
      "source": [
        "Visualiser resultaten av spørringeng i BigQuery GeoViz: https://bigquerygeoviz.appspot.com/ \n",
        "- I GeoViz, autoriser sesjon med GCP brukeren\n",
        "- lim in spørringen fra førigge cellen\n",
        "- klikk \"kjør\"\n",
        "- Under \"Data\" velg kolonnen som inneholder GEOGRAPHY data type \n",
        "- Ev. endre på \"Style\" (f.eks. set en verdi for \"Circle radius\") "
      ]
    },
    {
      "cell_type": "markdown",
      "metadata": {
        "id": "LRLA0oA22HBA"
      },
      "source": [
        "Velg en registreringspunkt og finne alle registreringspunkter som er i nærheten (distans < 10km)"
      ]
    },
    {
      "cell_type": "code",
      "metadata": {
        "id": "xttncrV82GYE"
      },
      "source": [
        "%%bigquery --project $project\n",
        "WITH\n",
        "  point AS (\n",
        "  SELECT\n",
        "    ST_GEOGPOINT(location.coordinates.latLon.lon,\n",
        "      location.coordinates.latLon.lat) geo\n",
        "  FROM\n",
        "    spike_eu.trafikkregistreringspunkter`\n",
        "  LIMIT\n",
        "    1 ),\n",
        "  all_points AS (\n",
        "  SELECT\n",
        "    *,\n",
        "    ST_GEOGPOINT(location.coordinates.latLon.lon,\n",
        "      location.coordinates.latLon.lat) geo\n",
        "  FROM\n",
        "    spike_eu.trafikkregistreringspunkter` )\n",
        "SELECT\n",
        "  *,\n",
        "  ST_DISTANCE(point.geo,\n",
        "    all_points.geo) distance_in_meters\n",
        "FROM\n",
        "  point,\n",
        "  all_points\n",
        "WHERE\n",
        "  ST_DWITHIN(point.geo,\n",
        "    all_points.geo,\n",
        "    10000)"
      ],
      "execution_count": null,
      "outputs": []
    },
    {
      "cell_type": "markdown",
      "metadata": {
        "id": "dBOd09k85Au-"
      },
      "source": [
        "Bruk en join, aggregasjon og GIS funksjonalitet sammen til å visualisere total trafikkvolumen per tellepunkt i 2019  i en GeoViz kart.\n",
        "Modifer følgende spørring:"
      ]
    },
    {
      "cell_type": "code",
      "metadata": {
        "id": "rlUMig575AKy"
      },
      "source": [
        "%%bigquery --project $project\n",
        "SELECT\n",
        "  b.Id,\n",
        "  SUM(--<velg trafikkvolumen kolonne>--) totalVolume,\n",
        "  ANY_VALUE(ST_GEOGPOINT(--<velg lengdegrad kolonne> , <velg breddegrad kolonne>--)) geo\n",
        "FROM\n",
        "  `spike_eu.import_prod_mars` a\n",
        "LEFT JOIN\n",
        "  `spike_eu.trafikkregistreringspunkter` b\n",
        "ON  \n",
        "  a.trpId = b.Id\n",
        "WHERE \n",
        "  -- <DATETIME filter for 2019> -- \n",
        "GROUP BY 1"
      ],
      "execution_count": null,
      "outputs": []
    },
    {
      "cell_type": "markdown",
      "metadata": {
        "id": "SX6sPACo6Gwy"
      },
      "source": [
        "- Skaler \"Circle radius\" etter total trafikk (`totalVolume`)"
      ]
    },
    {
      "cell_type": "markdown",
      "metadata": {
        "id": "93kEHEGlqWee"
      },
      "source": [
        "Aggreger trafikkvolumen per kommune eller fylke ved bruk av geografisk intersects. **BRUK FME EKSEMPEL INGEST AV GEOJSON FILTER HER**\n",
        "Kjør en spørring for å hente ut alle registreringspunkter som overlapper med et gitt området. \n",
        "Bruk ST_INTERSECT() eller ST_WITHIN() funksjon. "
      ]
    },
    {
      "cell_type": "code",
      "metadata": {
        "id": "Sust8arTqkeF"
      },
      "source": [
        "%%bigquery --project $project\n",
        "SELECT\n",
        "  a.id,\n",
        "  ST_GEOGPOINT(location.coordinates.latLon.lon,\n",
        "    location.coordinates.latLon.lat) geo,\n",
        "  b.kommunenavn\n",
        "FROM\n",
        "  `spike_eu.trafikkregistreringspunkter` a\n",
        "JOIN\n",
        "  `saga-analytics-temp.fme_import_test.kommuner` b\n",
        "ON\n",
        "  ST_WITHIN(ST_GEOGPOINT(location.coordinates.latLon.lon,\n",
        "      location.coordinates.latLon.lat),\n",
        "    b.geometry)"
      ],
      "execution_count": null,
      "outputs": []
    },
    {
      "cell_type": "code",
      "metadata": {
        "id": "1dc52eqU1RkQ"
      },
      "source": [
        "%%bigquery --project $project\n",
        "SELECT\n",
        "  count(distinct a.id),\n",
        "  b.kommunenavn\n",
        "FROM\n",
        "  `spike_eu.trafikkregistreringspunkter` a\n",
        "JOIN\n",
        "  `saga-analytics-temp.fme_import_test.kommuner` b\n",
        "ON\n",
        "  ST_WITHIN(ST_GEOGPOINT(location.coordinates.latLon.lon,\n",
        "      location.coordinates.latLon.lat),\n",
        "    b.geometry)\n",
        "group by 2\n",
        "order by 1 DESC"
      ],
      "execution_count": null,
      "outputs": []
    },
    {
      "cell_type": "code",
      "metadata": {
        "id": "KYQ1sl4D3CP7"
      },
      "source": [
        "%%bigquery --project $project\n",
        "-- this is if we want to take all communes\n",
        "WITH\n",
        "  traffic AS (\n",
        "  SELECT\n",
        "    a.id,\n",
        "    b.total.volumeNumbers.volume,\n",
        "    ST_GEOGPOINT(location.coordinates.latLon.lon,\n",
        "      location.coordinates.latLon.lat) geo\n",
        "  FROM\n",
        "    `spike_eu.trafikkregistreringspunkter` a\n",
        "  LEFT JOIN\n",
        "    `saga-trafikkdata-stm-39pt.spike_eu.import_prod_mars` b\n",
        "  ON\n",
        "    a.id = b.trpId ),\n",
        "  stations AS (\n",
        "  SELECT\n",
        "    a.id,\n",
        "    b.kommunenavn,\n",
        "    b.geometry,\n",
        "  FROM\n",
        "    `spike_eu.trafikkregistreringspunkter` a\n",
        "  JOIN\n",
        "    `saga-analytics-temp.fme_import_test.kommuner` b\n",
        "  ON\n",
        "    ST_WITHIN( ST_GEOGPOINT(location.coordinates.latLon.lon,\n",
        "        location.coordinates.latLon.lat),\n",
        "      b.geometry) )\n",
        "SELECT\n",
        "  communes.kommunenavn commune,\n",
        "  COUNT(DISTINCT traffic.id) registration_points,\n",
        "  AVG(traffic.volume) avg_volume,\n",
        "  ANY_VALUE(stations.geometry) geo\n",
        "FROM\n",
        "  `saga-analytics-temp.fme_import_test.kommuner` communes\n",
        "LEFT JOIN\n",
        "  stations\n",
        "ON\n",
        "  communes.kommunenavn = stations.kommunenavn\n",
        "LEFT JOIN\n",
        "  traffic\n",
        "ON\n",
        "  stations.id = traffic.id\n",
        "GROUP BY\n",
        "  1"
      ],
      "execution_count": null,
      "outputs": []
    },
    {
      "cell_type": "markdown",
      "metadata": {
        "id": "_oncsVAd6yN9"
      },
      "source": [
        "Visualiser totalttrafikk per området ved bruk av BigQuery GeoViz: https://bigquerygeoviz.appspot.com/  "
      ]
    },
    {
      "cell_type": "markdown",
      "metadata": {
        "id": "SG-BJ02A_eNf"
      },
      "source": [
        "## Brukerfunksjoner (UDFs)\n",
        "Av og til mangles det en enkel funksjon som er ikke definert i standard SQL eller i BigQuery's ekstra funksjoner. Det er enkelt å definere og bruke egne funksjoner (UDFs) enten temporær i en skript eller lagre dem globalt i et prosjekt.  UDFs tilbyr også en interface til javascript kode/biblioteker, som gjør det mulig å integrere ekstra funksjonalitet direkte i BigQuery"
      ]
    },
    {
      "cell_type": "code",
      "metadata": {
        "id": "oghOAU29A0Nt"
      },
      "source": [
        "%%bigquery --project $projecta\n",
        "/*\n",
        "Todo: Definer ST_Buffer funksjon her\n",
        "*/"
      ],
      "execution_count": null,
      "outputs": []
    },
    {
      "cell_type": "markdown",
      "metadata": {
        "id": "6zW4oyqxqwoc"
      },
      "source": [
        "Bruk ST_Buffer funksjon og visualiser trafikkregistreringspunktene (GeoViz)."
      ]
    }
  ]
}